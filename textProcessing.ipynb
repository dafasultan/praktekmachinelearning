{
  "cells": [
    {
      "cell_type": "markdown",
      "metadata": {
        "id": "EHgn-hicQvwz"
      },
      "source": [
        "Analitika Media Sosial\n",
        "==============\n",
        "\n",
        "***Petunjuk Menggunakan Reguler Expresion***\n",
        "\n",
        "***Universitas Dian Nuswantoro 2022***\n",
        "\n",
        "---"
      ]
    },
    {
      "cell_type": "markdown",
      "metadata": {
        "id": "rEayUPxnQvw3"
      },
      "source": [
        "### Mengenal String dalam Python\n",
        "Sebelum menggunakan library untuk text pre procesing, lebih baik jika mengenal type string dalam python."
      ]
    },
    {
      "cell_type": "code",
      "execution_count": null,
      "metadata": {
        "id": "WQveoiCdQvw7",
        "outputId": "d54cbb2e-766b-4b3e-95f7-6efc047699d9"
      },
      "outputs": [
        {
          "name": "stdout",
          "output_type": "stream",
          "text": [
            "22\n"
          ]
        }
      ],
      "source": [
        "word = 'Analitika Media Sosial'\n",
        "print(len(word))"
      ]
    },
    {
      "cell_type": "code",
      "execution_count": null,
      "metadata": {
        "id": "9QZl8fViQvw-",
        "outputId": "af704c78-a212-4e2d-9f2f-6563ab60a449"
      },
      "outputs": [
        {
          "name": "stdout",
          "output_type": "stream",
          "text": [
            "6\n"
          ]
        }
      ],
      "source": [
        "multiline = '''1\n",
        "2\n",
        "3\n",
        "'''\n",
        "print(len(multiline))"
      ]
    },
    {
      "cell_type": "code",
      "execution_count": null,
      "metadata": {
        "id": "VECBap6mQvxA",
        "outputId": "34b60aa6-a3b0-4673-a221-b1ef18fffb8a"
      },
      "outputs": [
        {
          "name": "stdout",
          "output_type": "stream",
          "text": [
            "12\n"
          ]
        }
      ],
      "source": [
        "str1 = '1'\n",
        "str2 = '2'\n",
        "\n",
        "print(str1 + str2)"
      ]
    },
    {
      "cell_type": "code",
      "execution_count": null,
      "metadata": {
        "id": "dQKYbObQQvxC",
        "outputId": "6f6164f8-44e3-40fe-a07f-4a7d4c09688a"
      },
      "outputs": [
        {
          "name": "stdout",
          "output_type": "stream",
          "text": [
            "97\n",
            "32\n",
            "65\n"
          ]
        }
      ],
      "source": [
        "ch1 = 'a'\n",
        "ch2 = ' ' #space\n",
        "ch3 = 'A'\n",
        "\n",
        "print(ord(ch1))\n",
        "print(ord(ch2))\n",
        "print(ord(ch3))"
      ]
    },
    {
      "cell_type": "code",
      "execution_count": null,
      "metadata": {
        "id": "9aV5YVCSQvxD",
        "outputId": "3ed8f974-146f-456b-d1de-10a0562c2a48"
      },
      "outputs": [
        {
          "name": "stdout",
          "output_type": "stream",
          "text": [
            "A\n"
          ]
        }
      ],
      "source": [
        "print(chr(65))"
      ]
    },
    {
      "cell_type": "code",
      "execution_count": 1,
      "metadata": {
        "colab": {
          "base_uri": "https://localhost:8080/"
        },
        "id": "Mc2GChp2QvxG",
        "outputId": "fee66113-6967-42ab-cdc8-4b2bc228dc25"
      },
      "outputs": [
        {
          "output_type": "stream",
          "name": "stdout",
          "text": [
            "nltk Md Ssl"
          ]
        }
      ],
      "source": [
        "cthString=\"Analitika Media Sosial\"\n",
        "vokal = ['a','i','u','e','o']\n",
        "\n",
        "for i in range(len(cthString)):\n",
        "    if cthString[i].lower() in vokal:\n",
        "        continue\n",
        "    print(cthString[i], end=\"\")"
      ]
    },
    {
      "cell_type": "code",
      "execution_count": null,
      "metadata": {
        "id": "u_pQJ35kQvxI",
        "outputId": "6f8ce78c-f8b4-4782-83ca-509438af972d"
      },
      "outputs": [
        {
          "name": "stdout",
          "output_type": "stream",
          "text": [
            "nt iol\n",
            "nali\n",
            "litika Media Sosial\n",
            "Ana\n",
            "AaiiaMdaSsa\n"
          ]
        }
      ],
      "source": [
        "cthSlice = \"Analitika Media Sosial\"\n",
        "\n",
        "print(cthSlice[1::4])\n",
        "print(cthSlice[1:5])\n",
        "print(cthSlice[3:])\n",
        "print(cthSlice[:3])\n",
        "print(cthSlice[::2])"
      ]
    },
    {
      "cell_type": "code",
      "execution_count": 4,
      "metadata": {
        "colab": {
          "base_uri": "https://localhost:8080/",
          "height": 193
        },
        "id": "NfFBNo_5QvxK",
        "outputId": "0255bbc7-17a5-4475-9857-7184ad51035f"
      },
      "outputs": [
        {
          "output_type": "stream",
          "name": "stdout",
          "text": [
            "b\n"
          ]
        },
        {
          "output_type": "error",
          "ename": "TypeError",
          "evalue": "'str' object doesn't support item deletion",
          "traceback": [
            "\u001b[0;31m---------------------------------------------------------------------------\u001b[0m",
            "\u001b[0;31mTypeError\u001b[0m                                 Traceback (most recent call last)",
            "\u001b[0;32m<ipython-input-4-c0083a6fef9e>\u001b[0m in \u001b[0;36m<cell line: 0>\u001b[0;34m()\u001b[0m\n\u001b[1;32m      2\u001b[0m \u001b[0;34m\u001b[0m\u001b[0m\n\u001b[1;32m      3\u001b[0m \u001b[0mprint\u001b[0m\u001b[0;34m(\u001b[0m\u001b[0malphabet\u001b[0m\u001b[0;34m[\u001b[0m\u001b[0;36m1\u001b[0m\u001b[0;34m]\u001b[0m\u001b[0;34m)\u001b[0m\u001b[0;34m\u001b[0m\u001b[0;34m\u001b[0m\u001b[0m\n\u001b[0;32m----> 4\u001b[0;31m \u001b[0;32mdel\u001b[0m \u001b[0malphabet\u001b[0m\u001b[0;34m[\u001b[0m\u001b[0;36m1\u001b[0m\u001b[0;34m]\u001b[0m\u001b[0;34m\u001b[0m\u001b[0;34m\u001b[0m\u001b[0m\n\u001b[0m",
            "\u001b[0;31mTypeError\u001b[0m: 'str' object doesn't support item deletion"
          ]
        }
      ],
      "source": [
        "alphabet = 'abcdefghijklmnopqrstuvwxyz'\n",
        "\n",
        "print(alphabet[1])\n",
        "del alphabet[0]"
      ]
    },
    {
      "cell_type": "code",
      "execution_count": 3,
      "metadata": {
        "colab": {
          "base_uri": "https://localhost:8080/",
          "height": 141
        },
        "id": "Sam9S0nBQvxL",
        "outputId": "0657fcac-1275-43eb-bcf2-03bdc5e9fcee"
      },
      "outputs": [
        {
          "output_type": "error",
          "ename": "AttributeError",
          "evalue": "'str' object has no attribute 'insert'",
          "traceback": [
            "\u001b[0;31m---------------------------------------------------------------------------\u001b[0m",
            "\u001b[0;31mAttributeError\u001b[0m                            Traceback (most recent call last)",
            "\u001b[0;32m<ipython-input-3-354d0373a2c7>\u001b[0m in \u001b[0;36m<cell line: 0>\u001b[0;34m()\u001b[0m\n\u001b[0;32m----> 1\u001b[0;31m \u001b[0malphabet\u001b[0m\u001b[0;34m.\u001b[0m\u001b[0minsert\u001b[0m\u001b[0;34m(\u001b[0m\u001b[0;34m\"A\"\u001b[0m\u001b[0;34m)\u001b[0m\u001b[0;34m\u001b[0m\u001b[0;34m\u001b[0m\u001b[0m\n\u001b[0m",
            "\u001b[0;31mAttributeError\u001b[0m: 'str' object has no attribute 'insert'"
          ]
        }
      ],
      "source": [
        "alphabet.insert(\"A\")"
      ]
    },
    {
      "cell_type": "code",
      "execution_count": 5,
      "metadata": {
        "colab": {
          "base_uri": "https://localhost:8080/"
        },
        "id": "IlxpvZpPQvxM",
        "outputId": "c025e5e6-e0f7-48ab-e1fb-4053f141389f"
      },
      "outputs": [
        {
          "output_type": "stream",
          "name": "stdout",
          "text": [
            "A\n"
          ]
        }
      ],
      "source": [
        "print(min(\"aAbByYzZ\"))"
      ]
    },
    {
      "cell_type": "code",
      "execution_count": 6,
      "metadata": {
        "colab": {
          "base_uri": "https://localhost:8080/"
        },
        "id": "8quFftbUQvxN",
        "outputId": "5929658d-a323-4a5e-b32d-f718c03ea6b0"
      },
      "outputs": [
        {
          "output_type": "stream",
          "name": "stdout",
          "text": [
            "3\n"
          ]
        }
      ],
      "source": [
        "t = \"theta\"\n",
        "print(t.find('ta'))"
      ]
    },
    {
      "cell_type": "code",
      "execution_count": null,
      "metadata": {
        "id": "d-_oCxmkQvxO",
        "outputId": "62b97b53-efc8-4c20-b90a-36361456b235"
      },
      "outputs": [
        {
          "name": "stdout",
          "output_type": "stream",
          "text": [
            "15\n",
            "80\n",
            "198\n",
            "221\n",
            "238\n"
          ]
        }
      ],
      "source": [
        "txt = \"\"\"A variation of the ordinary lorem ipsum\n",
        "text has been used in typesetting since the 1960s\n",
        "or earlier, when it was popularized by advertisements\n",
        "for Letraset transfer sheets. It was introduced to\n",
        "the Information Age in the mid-1980s by the Aldus Corporation,\n",
        "which employed it in graphics and word-processing templates\n",
        "for its desktop publishing program PageMaker (from Wikipedia)\"\"\"\n",
        "\n",
        "fnd = txt.find('the')\n",
        "while fnd != -1:\n",
        "    print(fnd)\n",
        "    fnd = txt.find('the', fnd + 1)"
      ]
    },
    {
      "cell_type": "markdown",
      "metadata": {
        "id": "T7DYdmeOQvxQ"
      },
      "source": [
        "#### 1. Some of the methods offered by strings are:\n",
        "\n",
        "- `capitalize()` – changes all string letters to capitals;\n",
        "- `center()` – centers the string inside the field of a known length;\n",
        "- `count()` – counts the occurrences of a given character;\n",
        "- `join()` – joins all items of a tuple/list into one string;\n",
        "- `lower()` – converts all the string's letters into lower-case letters;\n",
        "- `lstrip()` – removes the white characters from the beginning of the string;\n",
        "- `replace()` – replaces a given substring with another;\n",
        "- `rfind()` – finds a substring starting from the end of the string;\n",
        "- `rstrip()` – removes the trailing white spaces from the end of the string;\n",
        "- `split()` – splits the string into a substring using a given delimiter;\n",
        "- `strip()` – removes the leading and trailing white spaces;\n",
        "- `swapcase()` – swaps the letters' cases (lower to upper and vice versa)\n",
        "- `title()` – makes the first letter in each word upper-case;\n",
        "- `upper()` – converts all the string's letter into upper-case letters.\n",
        "\n",
        "#### 2. String content can be determined using the following methods (all of them return Boolean values):\n",
        "\n",
        "- `endswith()` – does the string end with a given substring?\n",
        "- `isalnum()` – does the string consist only of letters and digits?\n",
        "- `isalpha()` – does the string consist only of letters?\n",
        "- `islower()` – does the string consists only of lower-case letters?\n",
        "- `isspace()` – does the string consists only of white spaces?\n",
        "- `isupper()` – does the string consists only of upper-case letters?\n",
        "- `startswith()` – does the string begin with a given substring?"
      ]
    },
    {
      "cell_type": "markdown",
      "metadata": {
        "id": "HN25w09bQvxS"
      },
      "source": [
        "# Table of contents\n",
        "- [Cleaning Words](#cleaning-words)\n",
        "    - [import library](#import-library)\n",
        "    - [remove tab new line and back slice](#remove-tab-new-line-and-back-slice)\n",
        "    - [remove non ASCII emoticon chinese word](#remove-non-ASCII-emoticon-chinese-word)\n",
        "    - [remove mention link hashtag](#remove-mention-link-hashtag)\n",
        "    - [remove RT](#remove-rt)\n",
        "    - [lower](#lower)\n",
        "    - [remove incomplete url](#remove-incomplete-url)\n",
        "    - [remove number](#remove-number)\n",
        "    - [remove whitespace leading and trailing](#remove-whitespace-leading-and-trailing)\n",
        "    - [remove multiple whitespace into single whitespace](#remove-multiple-whitespace-into-single-whitespace)\n",
        "    - [remove single char](#remove-single-char)\n",
        "    - [remove excessive dot](#remove-excessive-dot)\n",
        "    - [remove punctuation](#remove-punctuation)\n",
        "    - [remove excessive whitespace](#remove-excessive-whitespace)"
      ]
    },
    {
      "cell_type": "markdown",
      "metadata": {
        "id": "3Ka5pZGDQvxS"
      },
      "source": [
        "# Cleaning Words <a name=\"cleaning-words\"></a>\n",
        "\n",
        "asumsikan kita sudah mendapat data dari twitter, kemudian kita ingin membersihkan datanya. Maka, kita bisa menggunakan `regular expression`\n",
        "\n",
        "sebagai contoh:\n",
        "\n",
        "`RT : @alzami1986 suka menonton Attack on Titans! (進撃の巨人) #aot  setiap kamis pukul 21.00 di http://netflix.com/aot . \\\\n meski tidak suka kekerasan, tapi cukup menikmati ?! #EldiaHarusMenang melawan #Marley  A ... `"
      ]
    },
    {
      "cell_type": "code",
      "execution_count": 7,
      "metadata": {
        "id": "u3aLsRUAQvxT"
      },
      "outputs": [],
      "source": [
        "text = 'RT : @alzami1986 suka menonton Attack on Titans! (進撃の巨人) #aot  setiap kamis pukul 21.00 di http://netflix.com/aot . \\\\n meski tidak suka kekerasan, tapi cukup menikmati ?! #EldiaHarusMenang melawan #Marley  A ...'"
      ]
    },
    {
      "cell_type": "code",
      "execution_count": 8,
      "metadata": {
        "colab": {
          "base_uri": "https://localhost:8080/"
        },
        "id": "gG3RT3zdQvxT",
        "outputId": "9dc5a7aa-50ad-45b1-a29a-92391806a2bb"
      },
      "outputs": [
        {
          "output_type": "stream",
          "name": "stdout",
          "text": [
            "RT : @alzami1986 suka menonton Attack on Titans! (進撃の巨人) #aot  setiap kamis pukul 21.00 di http://netflix.com/aot . \\n meski tidak suka kekerasan, tapi cukup menikmati ?! #EldiaHarusMenang melawan #Marley  A ...\n"
          ]
        }
      ],
      "source": [
        "print(text)"
      ]
    },
    {
      "cell_type": "markdown",
      "metadata": {
        "id": "caHcLac_QvxU"
      },
      "source": [
        "## import library <a name=\"import-library\"></a>"
      ]
    },
    {
      "cell_type": "code",
      "execution_count": 9,
      "metadata": {
        "id": "wwhnN5viQvxU"
      },
      "outputs": [],
      "source": [
        "import re\n",
        "import string\n",
        "import time\n",
        "from copy import deepcopy"
      ]
    },
    {
      "cell_type": "markdown",
      "metadata": {
        "id": "DjA2ZsnbQvxV"
      },
      "source": [
        "## remove tab new line and back slice  <a name=\"remove-tab-new-line-and-back-slice\"></a>"
      ]
    },
    {
      "cell_type": "code",
      "execution_count": 10,
      "metadata": {
        "id": "fi-BU6TKQvxW"
      },
      "outputs": [],
      "source": [
        "hasil = text.replace('\\\\t',\" \").replace('\\\\n',\" \").replace('\\\\u',\" \").replace('\\\\',\"\")"
      ]
    },
    {
      "cell_type": "code",
      "execution_count": 24,
      "metadata": {
        "colab": {
          "base_uri": "https://localhost:8080/",
          "height": 53
        },
        "id": "VUfE1VEHQvxW",
        "outputId": "2847848d-edae-42bc-c3c3-dc675f583c5f"
      },
      "outputs": [
        {
          "output_type": "execute_result",
          "data": {
            "text/plain": [
              "'rt : suka menonton attack on titans! (?????) setiap kamis pukul 21.00 di netflix.com/aot . meski tidak suka kekerasan, tapi cukup menikmati ?! melawan a ...'"
            ],
            "application/vnd.google.colaboratory.intrinsic+json": {
              "type": "string"
            }
          },
          "metadata": {},
          "execution_count": 24
        }
      ],
      "source": [
        "hasil"
      ]
    },
    {
      "cell_type": "markdown",
      "metadata": {
        "id": "xawMLWDJQvxX"
      },
      "source": [
        "## remove non ASCII emoticon chinese word <a name=\"remove-non-ASCII-emoticon-chinese-word\"></a>"
      ]
    },
    {
      "cell_type": "code",
      "execution_count": 11,
      "metadata": {
        "id": "G7A2dFiLQvxX"
      },
      "outputs": [],
      "source": [
        "hasil = hasil.encode('ascii', 'replace').decode('ascii')"
      ]
    },
    {
      "cell_type": "code",
      "execution_count": 12,
      "metadata": {
        "colab": {
          "base_uri": "https://localhost:8080/",
          "height": 53
        },
        "id": "lFYltgk5QvxX",
        "outputId": "e635186f-96a9-489d-b3e4-18db80084a71"
      },
      "outputs": [
        {
          "output_type": "execute_result",
          "data": {
            "text/plain": [
              "'RT : @alzami1986 suka menonton Attack on Titans! (?????) #aot  setiap kamis pukul 21.00 di http://netflix.com/aot .   meski tidak suka kekerasan, tapi cukup menikmati ?! #EldiaHarusMenang melawan #Marley  A ...'"
            ],
            "application/vnd.google.colaboratory.intrinsic+json": {
              "type": "string"
            }
          },
          "metadata": {},
          "execution_count": 12
        }
      ],
      "source": [
        "hasil"
      ]
    },
    {
      "cell_type": "markdown",
      "metadata": {
        "id": "_eqUze4AQvxY"
      },
      "source": [
        "## remove mention, link, hashtag <a name=\"remove-mention-link-hashtag\"></a>"
      ]
    },
    {
      "cell_type": "code",
      "execution_count": 22,
      "metadata": {
        "id": "1eV3NEjYQvxY"
      },
      "outputs": [],
      "source": [
        "hasil = ' '.join(re.sub(\"([@#][A-Za-z0-9]+)|(\\w+:\\/\\/\\S+)\",\" \", hasil).split())"
      ]
    },
    {
      "cell_type": "code",
      "execution_count": 23,
      "metadata": {
        "colab": {
          "base_uri": "https://localhost:8080/",
          "height": 53
        },
        "id": "fwhcHNULQvxZ",
        "outputId": "61cbbbcf-acd0-49f3-a5a9-fa052584e095"
      },
      "outputs": [
        {
          "output_type": "execute_result",
          "data": {
            "text/plain": [
              "'rt : suka menonton attack on titans! (?????) setiap kamis pukul 21.00 di netflix.com/aot . meski tidak suka kekerasan, tapi cukup menikmati ?! melawan a ...'"
            ],
            "application/vnd.google.colaboratory.intrinsic+json": {
              "type": "string"
            }
          },
          "metadata": {},
          "execution_count": 23
        }
      ],
      "source": [
        "hasil"
      ]
    },
    {
      "cell_type": "markdown",
      "metadata": {
        "id": "H0A7lEgYQvxZ"
      },
      "source": [
        "## remove RT <a name=\"remove-rt\"></a>"
      ]
    },
    {
      "cell_type": "code",
      "execution_count": 20,
      "metadata": {
        "id": "iHV6pD8hQvxa"
      },
      "outputs": [],
      "source": [
        "hasil = hasil.replace('RT : ',\"\")"
      ]
    },
    {
      "cell_type": "code",
      "execution_count": 21,
      "metadata": {
        "colab": {
          "base_uri": "https://localhost:8080/",
          "height": 53
        },
        "id": "awUzx9ArQvxb",
        "outputId": "023eebf3-f042-430f-e5cd-da8103da2341"
      },
      "outputs": [
        {
          "output_type": "execute_result",
          "data": {
            "text/plain": [
              "'rt : @alzami1986 suka menonton attack on titans! (?????) #aot  setiap kamis pukul 21.00 di netflix.com/aot .   meski tidak suka kekerasan, tapi cukup menikmati ?! #eldiaharusmenang melawan #marley  a ...'"
            ],
            "application/vnd.google.colaboratory.intrinsic+json": {
              "type": "string"
            }
          },
          "metadata": {},
          "execution_count": 21
        }
      ],
      "source": [
        "hasil"
      ]
    },
    {
      "cell_type": "markdown",
      "metadata": {
        "id": "NwUsozJ4Qvxc"
      },
      "source": [
        "## lower <a name=\"lower\"></a>"
      ]
    },
    {
      "cell_type": "code",
      "execution_count": 18,
      "metadata": {
        "id": "ulU2qqKcQvxc"
      },
      "outputs": [],
      "source": [
        "hasil = hasil.lower()"
      ]
    },
    {
      "cell_type": "code",
      "execution_count": 19,
      "metadata": {
        "colab": {
          "base_uri": "https://localhost:8080/",
          "height": 53
        },
        "id": "el5RbS37Qvxd",
        "outputId": "d6f28da1-a524-4228-e1d9-8e5a86178ca7"
      },
      "outputs": [
        {
          "output_type": "execute_result",
          "data": {
            "text/plain": [
              "'rt : @alzami1986 suka menonton attack on titans! (?????) #aot  setiap kamis pukul 21.00 di netflix.com/aot .   meski tidak suka kekerasan, tapi cukup menikmati ?! #eldiaharusmenang melawan #marley  a ...'"
            ],
            "application/vnd.google.colaboratory.intrinsic+json": {
              "type": "string"
            }
          },
          "metadata": {},
          "execution_count": 19
        }
      ],
      "source": [
        "hasil"
      ]
    },
    {
      "cell_type": "markdown",
      "metadata": {
        "id": "T7s0hvNLQvxd"
      },
      "source": [
        "## remove incomplete URL <a name=\"remove-incomplete-url\"></a>"
      ]
    },
    {
      "cell_type": "code",
      "execution_count": 16,
      "metadata": {
        "id": "XWYm5LXCQvxe"
      },
      "outputs": [],
      "source": [
        "hasil = hasil.replace('http://',\"\").replace('https://',\"\")"
      ]
    },
    {
      "cell_type": "code",
      "execution_count": 17,
      "metadata": {
        "colab": {
          "base_uri": "https://localhost:8080/",
          "height": 53
        },
        "id": "S_m8vBXgQvxe",
        "outputId": "2d97ec4a-cf66-482e-b1c0-479b78cd0b00"
      },
      "outputs": [
        {
          "output_type": "execute_result",
          "data": {
            "text/plain": [
              "'RT : @alzami1986 suka menonton Attack on Titans! (?????) #aot  setiap kamis pukul 21.00 di netflix.com/aot .   meski tidak suka kekerasan, tapi cukup menikmati ?! #EldiaHarusMenang melawan #Marley  A ...'"
            ],
            "application/vnd.google.colaboratory.intrinsic+json": {
              "type": "string"
            }
          },
          "metadata": {},
          "execution_count": 17
        }
      ],
      "source": [
        "hasil"
      ]
    },
    {
      "cell_type": "markdown",
      "metadata": {
        "id": "E_6FDawFQvx-"
      },
      "source": [
        "## remove number <a name=\"remove-number\"></a>"
      ]
    },
    {
      "cell_type": "code",
      "execution_count": 15,
      "metadata": {
        "id": "UVe-04LEQvx-"
      },
      "outputs": [],
      "source": [
        "def remove_number(hasil):\n",
        "    return re.sub(r\"\\d+\", \"\", hasil)"
      ]
    },
    {
      "cell_type": "code",
      "execution_count": 13,
      "metadata": {
        "colab": {
          "base_uri": "https://localhost:8080/",
          "height": 141
        },
        "id": "t-hSgNaeQvx_",
        "outputId": "9a24337d-e293-490f-c209-b0f53b510e5b"
      },
      "outputs": [
        {
          "output_type": "error",
          "ename": "NameError",
          "evalue": "name 'remove_number' is not defined",
          "traceback": [
            "\u001b[0;31m---------------------------------------------------------------------------\u001b[0m",
            "\u001b[0;31mNameError\u001b[0m                                 Traceback (most recent call last)",
            "\u001b[0;32m<ipython-input-13-8673710aa8c6>\u001b[0m in \u001b[0;36m<cell line: 0>\u001b[0;34m()\u001b[0m\n\u001b[0;32m----> 1\u001b[0;31m \u001b[0mhasil\u001b[0m \u001b[0;34m=\u001b[0m \u001b[0mremove_number\u001b[0m\u001b[0;34m(\u001b[0m\u001b[0mhasil\u001b[0m\u001b[0;34m)\u001b[0m\u001b[0;34m\u001b[0m\u001b[0;34m\u001b[0m\u001b[0m\n\u001b[0m",
            "\u001b[0;31mNameError\u001b[0m: name 'remove_number' is not defined"
          ]
        }
      ],
      "source": [
        "hasil = remove_number(hasil)"
      ]
    },
    {
      "cell_type": "code",
      "execution_count": 14,
      "metadata": {
        "colab": {
          "base_uri": "https://localhost:8080/",
          "height": 53
        },
        "id": "tEgTgRfSQvx_",
        "outputId": "569cd2d3-359e-4faa-8849-e6a4e34265d9"
      },
      "outputs": [
        {
          "output_type": "execute_result",
          "data": {
            "text/plain": [
              "'RT : @alzami1986 suka menonton Attack on Titans! (?????) #aot  setiap kamis pukul 21.00 di http://netflix.com/aot .   meski tidak suka kekerasan, tapi cukup menikmati ?! #EldiaHarusMenang melawan #Marley  A ...'"
            ],
            "application/vnd.google.colaboratory.intrinsic+json": {
              "type": "string"
            }
          },
          "metadata": {},
          "execution_count": 14
        }
      ],
      "source": [
        "hasil"
      ]
    },
    {
      "cell_type": "markdown",
      "metadata": {
        "id": "PiqUPyK6QvyB"
      },
      "source": [
        "## remove whitespace leading and trailing <a name=\"remove-whitespace-leading-and-trailing\"></a>\n",
        "\n",
        "digunakan untuk menghapus tanda spasi setelah titik pada akhir kalimat"
      ]
    },
    {
      "cell_type": "code",
      "execution_count": 25,
      "metadata": {
        "id": "A5qPfT4KQvyB"
      },
      "outputs": [],
      "source": [
        "def remove_whitespace(hasil):\n",
        "    return hasil.strip()"
      ]
    },
    {
      "cell_type": "code",
      "execution_count": 26,
      "metadata": {
        "id": "yUZMTxwqQvyC"
      },
      "outputs": [],
      "source": [
        "hasil = remove_whitespace(hasil)"
      ]
    },
    {
      "cell_type": "code",
      "execution_count": 27,
      "metadata": {
        "colab": {
          "base_uri": "https://localhost:8080/",
          "height": 53
        },
        "id": "Khstq5LYQvyC",
        "outputId": "9833aaea-a72d-422e-c012-ae10d0961a77"
      },
      "outputs": [
        {
          "output_type": "execute_result",
          "data": {
            "text/plain": [
              "'RT : @alzami1986 suka menonton Attack on Titans! (進撃の巨人) #aot  setiap kamis pukul 21.00 di http://netflix.com/aot . \\\\n meski tidak suka kekerasan, tapi cukup menikmati ?! #EldiaHarusMenang melawan #Marley  A ...'"
            ],
            "application/vnd.google.colaboratory.intrinsic+json": {
              "type": "string"
            }
          },
          "metadata": {},
          "execution_count": 27
        }
      ],
      "source": [
        "text"
      ]
    },
    {
      "cell_type": "code",
      "execution_count": 28,
      "metadata": {
        "colab": {
          "base_uri": "https://localhost:8080/",
          "height": 53
        },
        "id": "sQ8OCA1jQvyC",
        "outputId": "63354c6c-4867-4ec2-e31f-8b2242d01699"
      },
      "outputs": [
        {
          "output_type": "execute_result",
          "data": {
            "text/plain": [
              "'rt : suka menonton attack on titans! (?????) setiap kamis pukul 21.00 di netflix.com/aot . meski tidak suka kekerasan, tapi cukup menikmati ?! melawan a ...'"
            ],
            "application/vnd.google.colaboratory.intrinsic+json": {
              "type": "string"
            }
          },
          "metadata": {},
          "execution_count": 28
        }
      ],
      "source": [
        "hasil"
      ]
    },
    {
      "cell_type": "markdown",
      "metadata": {
        "id": "hq7erTq9QvyD"
      },
      "source": [
        "## remove multiple whitespace into single whitespace <a name=\"remove-multiple-whitespace-into-single-whitespace\"></a>"
      ]
    },
    {
      "cell_type": "code",
      "execution_count": 29,
      "metadata": {
        "id": "LWaozWeYQvyE"
      },
      "outputs": [],
      "source": [
        "def remove_whitespace_multi(hasil):\n",
        "    return re.sub('\\s+',' ',hasil)"
      ]
    },
    {
      "cell_type": "code",
      "execution_count": 30,
      "metadata": {
        "id": "UAqUsRfwQvyF"
      },
      "outputs": [],
      "source": [
        "hasil = remove_whitespace_multi(hasil)"
      ]
    },
    {
      "cell_type": "code",
      "execution_count": 31,
      "metadata": {
        "colab": {
          "base_uri": "https://localhost:8080/",
          "height": 53
        },
        "id": "0VMBhzNQQvyF",
        "outputId": "9fc8fd35-5aaf-4152-e384-e5d76425dee8"
      },
      "outputs": [
        {
          "output_type": "execute_result",
          "data": {
            "text/plain": [
              "'rt : suka menonton attack on titans! (?????) setiap kamis pukul 21.00 di netflix.com/aot . meski tidak suka kekerasan, tapi cukup menikmati ?! melawan a ...'"
            ],
            "application/vnd.google.colaboratory.intrinsic+json": {
              "type": "string"
            }
          },
          "metadata": {},
          "execution_count": 31
        }
      ],
      "source": [
        "hasil"
      ]
    },
    {
      "cell_type": "markdown",
      "metadata": {
        "id": "bebIWy_SQvyF"
      },
      "source": [
        "## remove single char <a name=\"remove-single-char\"></a>"
      ]
    },
    {
      "cell_type": "code",
      "execution_count": 32,
      "metadata": {
        "id": "qUOjTRH7QvyH"
      },
      "outputs": [],
      "source": [
        "def remove_single_char(hasil):\n",
        "    return re.sub(r\"\\b[a-zA-Z]\\b\", \"\", hasil)"
      ]
    },
    {
      "cell_type": "code",
      "execution_count": 33,
      "metadata": {
        "id": "p9k1OBqnQvyH"
      },
      "outputs": [],
      "source": [
        "hasil = remove_single_char(hasil)"
      ]
    },
    {
      "cell_type": "code",
      "execution_count": 34,
      "metadata": {
        "colab": {
          "base_uri": "https://localhost:8080/",
          "height": 53
        },
        "id": "NHY95iV5QvyI",
        "outputId": "f5eac47b-bbc4-4633-bb7a-37240f8a3cea"
      },
      "outputs": [
        {
          "output_type": "execute_result",
          "data": {
            "text/plain": [
              "'rt : suka menonton attack on titans! (?????) setiap kamis pukul 21.00 di netflix.com/aot . meski tidak suka kekerasan, tapi cukup menikmati ?! melawan  ...'"
            ],
            "application/vnd.google.colaboratory.intrinsic+json": {
              "type": "string"
            }
          },
          "metadata": {},
          "execution_count": 34
        }
      ],
      "source": [
        "hasil"
      ]
    },
    {
      "cell_type": "markdown",
      "metadata": {
        "id": "CW4Y82ECQvyI"
      },
      "source": [
        "## remove excessive dot <a name=\"remove-excessive-dot\"></a>"
      ]
    },
    {
      "cell_type": "code",
      "execution_count": 35,
      "metadata": {
        "id": "ux6yAPyaQvyJ"
      },
      "outputs": [],
      "source": [
        "def remove_excessive_dot(hasil):\n",
        "    return hasil.replace('...',\" \")"
      ]
    },
    {
      "cell_type": "code",
      "execution_count": 36,
      "metadata": {
        "id": "HlUwmOhJQvyL"
      },
      "outputs": [],
      "source": [
        "hasil = remove_excessive_dot(hasil)"
      ]
    },
    {
      "cell_type": "code",
      "execution_count": 37,
      "metadata": {
        "colab": {
          "base_uri": "https://localhost:8080/",
          "height": 53
        },
        "id": "Lj82tI8EQvyL",
        "outputId": "eb64a3f7-ff12-4a6c-b12c-487565e4f8c2"
      },
      "outputs": [
        {
          "output_type": "execute_result",
          "data": {
            "text/plain": [
              "'rt : suka menonton attack on titans! (?????) setiap kamis pukul 21.00 di netflix.com/aot . meski tidak suka kekerasan, tapi cukup menikmati ?! melawan   '"
            ],
            "application/vnd.google.colaboratory.intrinsic+json": {
              "type": "string"
            }
          },
          "metadata": {},
          "execution_count": 37
        }
      ],
      "source": [
        "hasil"
      ]
    },
    {
      "cell_type": "markdown",
      "metadata": {
        "id": "scvS4-kxQvyM"
      },
      "source": [
        "## remove punctuation <a name=\"remove-punctuation\"></a>"
      ]
    },
    {
      "cell_type": "code",
      "execution_count": 38,
      "metadata": {
        "id": "0AhfHeh-QvyM"
      },
      "outputs": [],
      "source": [
        "def remove_punctuation(hasil):\n",
        "    return hasil.translate(str.maketrans(\"\",\"\",string.punctuation))"
      ]
    },
    {
      "cell_type": "code",
      "execution_count": 39,
      "metadata": {
        "id": "7mifDS3LQvyN"
      },
      "outputs": [],
      "source": [
        "hasil = remove_punctuation(hasil)"
      ]
    },
    {
      "cell_type": "code",
      "execution_count": 40,
      "metadata": {
        "colab": {
          "base_uri": "https://localhost:8080/",
          "height": 53
        },
        "id": "d34GOQZOQvyN",
        "outputId": "deb8cc67-b62e-404a-8a22-e7c67076e867"
      },
      "outputs": [
        {
          "output_type": "execute_result",
          "data": {
            "text/plain": [
              "'RT : @alzami1986 suka menonton Attack on Titans! (進撃の巨人) #aot  setiap kamis pukul 21.00 di http://netflix.com/aot . \\\\n meski tidak suka kekerasan, tapi cukup menikmati ?! #EldiaHarusMenang melawan #Marley  A ...'"
            ],
            "application/vnd.google.colaboratory.intrinsic+json": {
              "type": "string"
            }
          },
          "metadata": {},
          "execution_count": 40
        }
      ],
      "source": [
        "text"
      ]
    },
    {
      "cell_type": "code",
      "execution_count": 41,
      "metadata": {
        "colab": {
          "base_uri": "https://localhost:8080/",
          "height": 36
        },
        "id": "8B_JfXB7QvyO",
        "outputId": "552e5171-24a8-4eea-cf81-a25b1b67d60e"
      },
      "outputs": [
        {
          "output_type": "execute_result",
          "data": {
            "text/plain": [
              "'rt  suka menonton attack on titans  setiap kamis pukul 2100 di netflixcomaot  meski tidak suka kekerasan tapi cukup menikmati  melawan   '"
            ],
            "application/vnd.google.colaboratory.intrinsic+json": {
              "type": "string"
            }
          },
          "metadata": {},
          "execution_count": 41
        }
      ],
      "source": [
        "hasil"
      ]
    },
    {
      "cell_type": "markdown",
      "metadata": {
        "id": "V5VxuxuuQvyO"
      },
      "source": [
        "## remove excessive whitespace <a name=\"remove-excessive-whitespace\"></a>"
      ]
    },
    {
      "cell_type": "code",
      "execution_count": 42,
      "metadata": {
        "id": "OFzQJPhzQvyP"
      },
      "outputs": [],
      "source": [
        "document = \" saya                    tidak suka sambal     bikin sakit    \""
      ]
    },
    {
      "cell_type": "code",
      "execution_count": 43,
      "metadata": {
        "id": "8a2nN_vKQvyP"
      },
      "outputs": [],
      "source": [
        "nowhite = ' '.join(document.split())"
      ]
    },
    {
      "cell_type": "code",
      "execution_count": 44,
      "metadata": {
        "colab": {
          "base_uri": "https://localhost:8080/",
          "height": 36
        },
        "id": "R1FL5_R-QvyQ",
        "outputId": "c3c95a01-a7e0-48b8-d801-b189644eaa69"
      },
      "outputs": [
        {
          "output_type": "execute_result",
          "data": {
            "text/plain": [
              "'saya tidak suka sambal bikin sakit'"
            ],
            "application/vnd.google.colaboratory.intrinsic+json": {
              "type": "string"
            }
          },
          "metadata": {},
          "execution_count": 44
        }
      ],
      "source": [
        "nowhite"
      ]
    }
  ],
  "metadata": {
    "kernelspec": {
      "display_name": "Python 3 (ipykernel)",
      "language": "python",
      "name": "python3"
    },
    "language_info": {
      "codemirror_mode": {
        "name": "ipython",
        "version": 3
      },
      "file_extension": ".py",
      "mimetype": "text/x-python",
      "name": "python",
      "nbconvert_exporter": "python",
      "pygments_lexer": "ipython3",
      "version": "3.9.5"
    },
    "colab": {
      "provenance": []
    }
  },
  "nbformat": 4,
  "nbformat_minor": 0
}