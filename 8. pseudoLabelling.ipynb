{
  "cells": [
    {
      "cell_type": "code",
      "execution_count": null,
      "metadata": {
        "id": "JFQI573MNQFo"
      },
      "outputs": [],
      "source": [
        "import pandas as pd\n",
        "import numpy as np\n",
        "import matplotlib.pyplot as plt\n",
        "%matplotlib inline\n",
        "from sklearn.preprocessing import LabelEncoder"
      ]
    },
    {
      "cell_type": "code",
      "execution_count": null,
      "metadata": {
        "id": "2xmK3aLCNQFr"
      },
      "outputs": [],
      "source": [
        "train = pd.read_csv('/content/Train.csv')\n",
        "test = pd.read_csv('/content/Test.csv')"
      ]
    },
    {
      "cell_type": "code",
      "execution_count": null,
      "metadata": {
        "colab": {
          "base_uri": "https://localhost:8080/"
        },
        "id": "_HWgGF8mNQFu",
        "outputId": "25dc7736-9373-4d88-edb8-b7a89dd6301e"
      },
      "outputs": [
        {
          "output_type": "stream",
          "name": "stderr",
          "text": [
            "<ipython-input-5-a0dcca2d1e8b>:37: SettingWithCopyWarning: \n",
            "A value is trying to be set on a copy of a slice from a DataFrame\n",
            "\n",
            "See the caveats in the documentation: https://pandas.pydata.org/pandas-docs/stable/user_guide/indexing.html#returning-a-view-versus-a-copy\n",
            "  test.drop('Item_Outlet_Sales', axis=1, inplace=True)\n"
          ]
        }
      ],
      "source": [
        "# preprocessing\n",
        "\n",
        "### mean imputations\n",
        "train['Item_Weight'] = train['Item_Weight'].fillna(train['Item_Weight'].mean())  # Menghindari inplace\n",
        "test['Item_Weight'] = test['Item_Weight'].fillna(test['Item_Weight'].mean())  # Menghindari inplace\n",
        "\n",
        "### reducing fat content to only two categories\n",
        "train['Item_Fat_Content'] = train['Item_Fat_Content'].replace(['low fat','LF'], ['Low Fat','Low Fat'])\n",
        "train['Item_Fat_Content'] = train['Item_Fat_Content'].replace(['reg'], ['Regular'])\n",
        "test['Item_Fat_Content'] = test['Item_Fat_Content'].replace(['low fat','LF'], ['Low Fat','Low Fat'])\n",
        "test['Item_Fat_Content'] = test['Item_Fat_Content'].replace(['reg'], ['Regular'])\n",
        "\n",
        "## for calculating establishment year\n",
        "train['Outlet_Establishment_Year'] = 2013 - train['Outlet_Establishment_Year']\n",
        "test['Outlet_Establishment_Year'] = 2013 - test['Outlet_Establishment_Year']\n",
        "\n",
        "### missing values for size\n",
        "train['Outlet_Size'] = train['Outlet_Size'].fillna('Small')  # Menghindari inplace\n",
        "test['Outlet_Size'] = test['Outlet_Size'].fillna('Small')  # Menghindari inplace\n",
        "\n",
        "### label encoding cate. var.\n",
        "col = ['Outlet_Size','Outlet_Location_Type','Outlet_Type','Item_Fat_Content']\n",
        "test['Item_Outlet_Sales'] = 0\n",
        "\n",
        "# Gabungkan train dan test menggunakan pd.concat()\n",
        "combi = pd.concat([train, test], ignore_index=True)\n",
        "\n",
        "# Melakukan Label Encoding untuk variabel kategorikal\n",
        "number = LabelEncoder()\n",
        "for i in col:\n",
        "    combi[i] = number.fit_transform(combi[i].astype('str'))\n",
        "    combi[i] = combi[i].astype('int')\n",
        "\n",
        "# Pisahkan kembali train dan test setelah encoding\n",
        "train = combi[:len(train)]\n",
        "test = combi[len(train):]\n",
        "test.drop('Item_Outlet_Sales', axis=1, inplace=True)\n",
        "\n",
        "## removing id variables\n",
        "training = train.drop(['Outlet_Identifier','Item_Type','Item_Identifier'], axis=1)\n",
        "testing = test.drop(['Outlet_Identifier','Item_Type','Item_Identifier'], axis=1)\n",
        "\n",
        "# Memisahkan target\n",
        "y_train = training['Item_Outlet_Sales']\n",
        "training.drop('Item_Outlet_Sales', axis=1, inplace=True)\n",
        "\n",
        "# Mendapatkan daftar fitur\n",
        "features = training.columns\n",
        "target = 'Item_Outlet_Sales'\n",
        "\n",
        "# Membagi data menjadi X_train dan X_test\n",
        "X_train, X_test = training, testing\n"
      ]
    },
    {
      "cell_type": "markdown",
      "metadata": {
        "id": "kaj06LKZNQFx"
      },
      "source": [
        "# Model exploration"
      ]
    },
    {
      "cell_type": "code",
      "execution_count": null,
      "metadata": {
        "id": "LsDZSOCoNQFz"
      },
      "outputs": [],
      "source": [
        "from xgboost import XGBRegressor\n",
        "from sklearn.linear_model import BayesianRidge, Ridge, ElasticNet\n",
        "from sklearn.neighbors import KNeighborsRegressor\n",
        "from sklearn.ensemble import RandomForestRegressor, ExtraTreesRegressor, GradientBoostingRegressor\n",
        "#from sklearn.neural_network import MLPRegressor\n",
        "\n",
        "from sklearn.metrics import mean_squared_error\n",
        "from sklearn.model_selection import cross_val_score"
      ]
    },
    {
      "cell_type": "code",
      "execution_count": null,
      "metadata": {
        "colab": {
          "base_uri": "https://localhost:8080/"
        },
        "id": "a1Q68l4fNQF0",
        "outputId": "840a7551-e5f6-450c-a9f9-474aa0b4a050"
      },
      "outputs": [
        {
          "output_type": "stream",
          "name": "stdout",
          "text": [
            "RandomForestRegressor     CV-5 RMSE:  1150.50 (+/- 34393.63)\n",
            "XGBRegressor              CV-5 RMSE:  1194.19 (+/- 12732.65)\n",
            "Ridge                     CV-5 RMSE:  1206.41 (+/- 54020.12)\n",
            "BayesianRidge             CV-5 RMSE:  1206.56 (+/- 52695.34)\n",
            "ExtraTreesRegressor       CV-5 RMSE:  1194.25 (+/- 28866.46)\n",
            "ElasticNet                CV-5 RMSE:  1259.18 (+/- 89803.16)\n",
            "KNeighborsRegressor       CV-5 RMSE:  1245.71 (+/- 37275.84)\n",
            "GradientBoostingRegressor CV-5 RMSE:  1086.30 (+/- 19559.95)\n"
          ]
        }
      ],
      "source": [
        "model_factory = [\n",
        "    RandomForestRegressor(),\n",
        "    XGBRegressor(nthread=1),\n",
        "    #MLPRegressor(),\n",
        "    Ridge(),\n",
        "    BayesianRidge(),\n",
        "    ExtraTreesRegressor(),\n",
        "    ElasticNet(),\n",
        "    KNeighborsRegressor(),\n",
        "    GradientBoostingRegressor()\n",
        "]\n",
        "\n",
        "for model in model_factory:\n",
        "    model.seed = 42\n",
        "    num_folds = 3\n",
        "\n",
        "    scores = cross_val_score(model, X_train, y_train, cv=num_folds, scoring='neg_mean_squared_error')\n",
        "    score_description = \" %0.2f (+/- %0.2f)\" % (np.sqrt(scores.mean()*-1), scores.std() * 2)\n",
        "\n",
        "    print('{model:25} CV-5 RMSE: {score}'.format(\n",
        "        model=model.__class__.__name__,\n",
        "        score=score_description\n",
        "    ))"
      ]
    },
    {
      "cell_type": "code",
      "execution_count": null,
      "metadata": {
        "colab": {
          "base_uri": "https://localhost:8080/"
        },
        "id": "Xln752fbNQF2",
        "outputId": "4c6221fa-7524-4f88-fab7-a05f81848e03"
      },
      "outputs": [
        {
          "output_type": "execute_result",
          "data": {
            "text/plain": [
              "array([-1421494.56551968, -1435093.1906929 , -1421683.77651878])"
            ]
          },
          "metadata": {},
          "execution_count": 10
        }
      ],
      "source": [
        "## normal submission using xgb\n",
        "model = XGBRegressor()\n",
        "model.fit(X_train,y_train)\n",
        "pred = model.predict(X_test)\n",
        "\n",
        "## saving file\n",
        "sub = pd.DataFrame(data = pred, columns=['Item_Outlet_Sales'])\n",
        "sub['Item_Identifier'] = test['Item_Identifier']\n",
        "sub['Outlet_Identifier'] = test['Outlet_Identifier']\n",
        "#sub.to_csv('bigmart-xgb.csv', index='False')\n",
        "\n",
        "cross_val_score(model, X_train, y_train, cv=num_folds, scoring='neg_mean_squared_error', n_jobs=8)"
      ]
    },
    {
      "cell_type": "markdown",
      "metadata": {
        "id": "nIacx5q5NQF4"
      },
      "source": [
        "Xgb gives us the best results. on submission it gives an rmse of 1152.73"
      ]
    },
    {
      "cell_type": "code",
      "execution_count": null,
      "metadata": {
        "id": "znJc8egBNQF6"
      },
      "outputs": [],
      "source": [
        "from sklearn.utils import shuffle\n",
        "from sklearn.base import BaseEstimator, RegressorMixin\n",
        "\n",
        "class PseudoLabeler(BaseEstimator, RegressorMixin):\n",
        "    '''\n",
        "    Sci-kit learn wrapper for creating pseudo-lebeled estimators.\n",
        "    '''\n",
        "\n",
        "    def __init__(self, model, unlabled_data, features, target, sample_rate=0.2, seed=42):\n",
        "        '''\n",
        "        @sample_rate - percent of samples used as pseudo-labelled data\n",
        "                       from the unlabled dataset\n",
        "        '''\n",
        "        assert sample_rate <= 1.0, 'Sample_rate should be between 0.0 and 1.0.'\n",
        "\n",
        "        self.sample_rate = sample_rate\n",
        "        self.seed = seed\n",
        "        self.model = model\n",
        "        self.model.seed = seed\n",
        "\n",
        "        self.unlabled_data = unlabled_data\n",
        "        self.features = features\n",
        "        self.target = target\n",
        "\n",
        "    def get_params(self, deep=True):\n",
        "        return {\n",
        "            \"sample_rate\": self.sample_rate,\n",
        "            \"seed\": self.seed,\n",
        "            \"model\": self.model,\n",
        "            \"unlabled_data\": self.unlabled_data,\n",
        "            \"features\": self.features,\n",
        "            \"target\": self.target\n",
        "        }\n",
        "\n",
        "    def set_params(self, **parameters):\n",
        "        for parameter, value in parameters.items():\n",
        "            setattr(self, parameter, value)\n",
        "        return self\n",
        "\n",
        "\n",
        "    def fit(self, X, y):\n",
        "        '''\n",
        "        Fit the data using pseudo labeling.\n",
        "        '''\n",
        "\n",
        "        augemented_train = self.__create_augmented_train(X, y)\n",
        "        self.model.fit(\n",
        "            augemented_train[self.features],\n",
        "            augemented_train[self.target]\n",
        "        )\n",
        "\n",
        "        return self\n",
        "\n",
        "\n",
        "    def __create_augmented_train(self, X, y):\n",
        "        '''\n",
        "        Create and return the augmented_train set that consists\n",
        "        of pseudo-labeled and labeled data.\n",
        "        '''\n",
        "        num_of_samples = int(len(self.unlabled_data) * self.sample_rate)\n",
        "\n",
        "        # Train the model and creat the pseudo-labels\n",
        "        self.model.fit(X, y)\n",
        "        pseudo_labels = self.model.predict(self.unlabled_data[self.features])\n",
        "\n",
        "        # Add the pseudo-labels to the test set\n",
        "        pseudo_data = self.unlabled_data.copy(deep=True)\n",
        "        pseudo_data[self.target] = pseudo_labels\n",
        "\n",
        "        # Take a subset of the test set with pseudo-labels and append in onto\n",
        "        # the training set\n",
        "        sampled_pseudo_data = pseudo_data.sample(n=num_of_samples)\n",
        "        temp_train = pd.concat([X, y], axis=1)\n",
        "        augemented_train = pd.concat([sampled_pseudo_data, temp_train])\n",
        "\n",
        "        return shuffle(augemented_train)\n",
        "\n",
        "    def predict(self, X):\n",
        "        '''\n",
        "        Returns the predicted values.\n",
        "        '''\n",
        "        return self.model.predict(X)\n",
        "\n",
        "    def get_model_name(self):\n",
        "        return self.model.__class__.__name__"
      ]
    },
    {
      "cell_type": "markdown",
      "metadata": {
        "id": "k_0HJ8aXNQF8"
      },
      "source": [
        "# Pseudo Labeler"
      ]
    },
    {
      "cell_type": "code",
      "execution_count": null,
      "metadata": {
        "colab": {
          "base_uri": "https://localhost:8080/"
        },
        "id": "4cbVr_XbNQF9",
        "outputId": "100776ba-2d1f-4474-b100-d7055332570a"
      },
      "outputs": [
        {
          "output_type": "execute_result",
          "data": {
            "text/plain": [
              "array([-1453101.62313873, -1361335.88395596, -1415490.66057559])"
            ]
          },
          "metadata": {},
          "execution_count": 12
        }
      ],
      "source": [
        "model = PseudoLabeler(\n",
        "    XGBRegressor(nthread=1),\n",
        "    test,\n",
        "    features,\n",
        "    target,\n",
        "    sample_rate = 0.3\n",
        ")\n",
        "\n",
        "model.fit(X_train, y_train)\n",
        "pred = model.predict(X_test)\n",
        "cross_val_score(model, X_train, y_train, cv=num_folds, scoring='neg_mean_squared_error', n_jobs=8)"
      ]
    },
    {
      "cell_type": "code",
      "execution_count": null,
      "metadata": {
        "id": "xLipsXa9NQF-"
      },
      "outputs": [],
      "source": [
        "sub = pd.DataFrame(data = pred, columns=['Item_Outlet_Sales'])\n",
        "sub['Item_Identifier'] = test['Item_Identifier']\n",
        "sub['Outlet_Identifier'] = test['Outlet_Identifier']\n",
        "sub.to_csv('pseudo-labelling.csv', index='False')"
      ]
    },
    {
      "cell_type": "markdown",
      "metadata": {
        "id": "c9lpwtP0NQGB"
      },
      "source": [
        "On submission, it gives a rmse score of 1151.38 which is better than our previous xgb submission."
      ]
    },
    {
      "cell_type": "markdown",
      "metadata": {
        "id": "37NNO2KMNQGB"
      },
      "source": [
        "# Comparing xgboost with xgb with pseudo labelling"
      ]
    },
    {
      "cell_type": "code",
      "execution_count": null,
      "metadata": {
        "colab": {
          "base_uri": "https://localhost:8080/"
        },
        "id": "d5lFHj28NQGC",
        "outputId": "378d24b3-500b-4ef3-f57c-fb2901de4048"
      },
      "outputs": [
        {
          "output_type": "stream",
          "name": "stdout",
          "text": [
            "XGBRegressor              CV-8 MSE: 1183.6680 (+/- 154987.3161)\n",
            "PseudoLabeler             CV-8 MSE: 1168.6185 (+/- 131297.6937)\n"
          ]
        }
      ],
      "source": [
        "model_factory = [\n",
        "    XGBRegressor(nthread=1),\n",
        "\n",
        "    PseudoLabeler(\n",
        "        XGBRegressor(nthread=1),\n",
        "        test,\n",
        "        features,\n",
        "        target,\n",
        "        sample_rate=0.3\n",
        "    ),\n",
        "]\n",
        "\n",
        "for model in model_factory:\n",
        "    model.seed = 42\n",
        "    num_folds = 8\n",
        "\n",
        "    scores = cross_val_score(model, X_train, y_train, cv=num_folds, scoring='neg_mean_squared_error', n_jobs=8)\n",
        "    score_description = \"MSE: %0.4f (+/- %0.4f)\" % (np.sqrt(scores.mean()*-1), scores.std() * 2)\n",
        "\n",
        "    print('{model:25} CV-{num_folds} {score_cv}'.format(\n",
        "        model=model.__class__.__name__,\n",
        "        num_folds=num_folds,\n",
        "        score_cv=score_description\n",
        "    ))"
      ]
    },
    {
      "cell_type": "markdown",
      "metadata": {
        "id": "XV9KFMqNNQGC"
      },
      "source": [
        "# Performance of pseudo-labelling depedendance on sampling rate"
      ]
    },
    {
      "cell_type": "code",
      "execution_count": 15,
      "metadata": {
        "colab": {
          "base_uri": "https://localhost:8080/"
        },
        "id": "BBC25u4cNQGD",
        "outputId": "a0500312-3ac1-48dd-a874-f835acabfddd"
      },
      "outputs": [
        {
          "output_type": "stream",
          "name": "stdout",
          "text": [
            "RandomForestRegressor\n",
            "XGBRegressor\n"
          ]
        }
      ],
      "source": [
        "sample_rates = np.linspace(0, 1, 10)\n",
        "\n",
        "def pseudo_label_wrapper(model):\n",
        "    return PseudoLabeler(model, test, features, target)\n",
        "\n",
        "# List of all models to test\n",
        "model_factory = [\n",
        "    RandomForestRegressor(n_jobs=1),\n",
        "    XGBRegressor(),\n",
        "]\n",
        "\n",
        "# Apply the PseudoLabeler class to each model\n",
        "model_factory = map(pseudo_label_wrapper, model_factory)\n",
        "\n",
        "# Train each model with different sample rates\n",
        "results = {}\n",
        "num_folds = 5\n",
        "\n",
        "for model in model_factory:\n",
        "    model_name = model.get_model_name()\n",
        "    print('%s' % model_name)\n",
        "\n",
        "    results[model_name] = list()\n",
        "    for sample_rate in sample_rates:\n",
        "        model.sample_rate = sample_rate\n",
        "\n",
        "        # Calculate the CV-3 R2 score and store it\n",
        "        scores = cross_val_score(model, X_train, y_train, cv=num_folds, scoring='neg_mean_squared_error', n_jobs=8)\n",
        "        results[model_name].append(np.sqrt(scores.mean()*-1))"
      ]
    },
    {
      "cell_type": "code",
      "execution_count": 16,
      "metadata": {
        "id": "PeqTeeQFNQGD",
        "colab": {
          "base_uri": "https://localhost:8080/",
          "height": 510
        },
        "outputId": "89cbb700-f524-42c0-ed59-c0c824c36b84"
      },
      "outputs": [
        {
          "output_type": "display_data",
          "data": {
            "text/plain": [
              "<Figure size 1600x1800 with 2 Axes>"
            ],
            "image/png": "[encoded data removed]"
          },
          "metadata": {}
        }
      ],
      "source": [
        "plt.figure(figsize=(16, 18))\n",
        "\n",
        "i = 1\n",
        "for model_name, performance in results.items():\n",
        "    plt.subplot(3, 3, i)\n",
        "    i += 1\n",
        "\n",
        "    plt.plot(sample_rates, performance)\n",
        "    plt.title(model_name)\n",
        "    plt.xlabel('sample_rate')\n",
        "    plt.ylabel('RMSE')\n",
        "\n",
        "\n",
        "plt.show()"
      ]
    },
    {
      "cell_type": "code",
      "execution_count": null,
      "metadata": {
        "collapsed": true,
        "id": "pP3g8u_rNQGE"
      },
      "outputs": [],
      "source": []
    }
  ],
  "metadata": {
    "kernelspec": {
      "display_name": "Python 3 (ipykernel)",
      "language": "python",
      "name": "python3"
    },
    "language_info": {
      "codemirror_mode": {
        "name": "ipython",
        "version": 3
      },
      "file_extension": ".py",
      "mimetype": "text/x-python",
      "name": "python",
      "nbconvert_exporter": "python",
      "pygments_lexer": "ipython3",
      "version": "3.9.5"
    },
    "colab": {
      "provenance": []
    }
  },
  "nbformat": 4,
  "nbformat_minor": 0
}