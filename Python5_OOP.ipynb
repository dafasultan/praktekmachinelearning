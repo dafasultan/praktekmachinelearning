{
  "cells": [
    {
      "cell_type": "markdown",
      "metadata": {
        "id": "mqAJbUDKY8VR"
      },
      "source": [
        "# Python Basic 5\n",
        "Object-Oriented Programming\n",
        "\n",
        "Referensi Tambahan:\n",
        "- https://docs.python.org/3.8/\n",
        "- https://docs.python.org/id/3.8/tutorial/\n",
        "- https://www.programiz.com/python-programming/object-oriented-programming\n",
        "\n",
        "## Introduction to OOPs in Python\n",
        "\n",
        "Python itu adalah sebuah bahasa pemrograman multi purpose dan multi paradigm, artinya python dapat men support berbagai pendekatan pemrograman.\n",
        "\n",
        "Salah satu pendekatan yang populer, adalah Object Oriented Programming, atau pemrograman berorientasi objek. Nah selama ini, kita sebetulnya menggunakan pendekatan pemrograman prosedural. Bagaimana perbedaan antara paradigma pemrograman prosedural dengan yang berbasis objek?\n",
        "\n",
        "Sebelumnya kita membahasa dulu apa itu objek. Jadi, objek itu memiliki dua karakteristik.\n",
        "\n",
        "1. attributes\n",
        "2. behavior\n",
        "\n",
        "Mari kita lihat contohnya:\n",
        "\n",
        "Parrot (burung beo) adalah sebuah objek,\n",
        "\n",
        "name, age, color (nama, usia, warna) adalah atributnya\n",
        "singing, dancing (menyanyi, menari) adalah behavior nya\n",
        "\n",
        "Konsep dari OOP dalam python ini berfokus dalam pembuatan kode yang reusable (dapat digunakan kembali). Konsep ini juga dikenal dengan DRY (Don't Repeat Yourself).\n",
        "\n",
        "Dalam python, konsep OOP memiliki beberapa prinsip dasar:\n",
        "\n",
        "| Sifat   | Deskripsi   |\n",
        "|---------------|---------------------------------------------------------------------------------|\n",
        "| Inheritance   | Proses dalam menggunakan atribut dan behaviour dari class yang telah ada sebelumnya.   |\n",
        "| Encapsulation | Menyembunyikan atribut dan behavior yang bersifat private dari kelas lainnya.                       |\n",
        "| Polymorphism  | Sebuah konsep untuk menggunakan operasi yang sama dengan cara yang berbeda pada kelas lain. |\n",
        "\n",
        "Konsep ini akan terlihat lebih mudah dalam prakteknya nanti"
      ]
    },
    {
      "cell_type": "markdown",
      "metadata": {
        "id": "zifhVpJmY8VU"
      },
      "source": [
        "# Class\n",
        "\n",
        "Class adalah sebuah blueprint untuk objek.\n",
        "\n",
        "Kalau kita berbicara mengenai parrot (burung beo), blueprint atau desainnya, parrot tersebut akan memiliki nama, warna, ukuran, dll. Parrot juga nantinya bisa singing dan dancing. Oleh karena itu kita bisa membuat parrot menjadi sebuah kelas.\n",
        "\n",
        "Untuk membuat kelas parrot yang sederhana kita bisa menuliskan kode berikut :\n",
        "\n",
        "```python\n",
        "class Parrot:\n",
        "```\n",
        "\n",
        "Kata kunci `class` diikuti dengan `Parrot` mendefinisikan blueprint dari class parrot. Blueprint ini nantinya akan di realisasikan dalam sebuah instance.\n"
      ]
    },
    {
      "cell_type": "markdown",
      "metadata": {
        "id": "Lkh7SVwCY8VW"
      },
      "source": [
        "# Object / Instance\n",
        "\n",
        "Sebuah objek (instance) adalah perwujudan dari sebuah class.\n",
        "\n",
        "Contoh dari membuat sebuah objek (instance) adalah sebagai berikut:\n",
        "```python\n",
        "papi = Parrot()\n",
        "```\n",
        "\n",
        "Disini, `papi` adalah perwujudan `Parrot`\n",
        "\n",
        "Sekarang coba kita lihat kode lengkap dari pembuatan objek dan class"
      ]
    },
    {
      "cell_type": "code",
      "execution_count": 1,
      "metadata": {
        "colab": {
          "base_uri": "https://localhost:8080/"
        },
        "id": "xsnZVfzPY8VZ",
        "outputId": "6b0738b6-f55a-4c5c-c9ca-cc9c22463d1b"
      },
      "outputs": [
        {
          "output_type": "stream",
          "name": "stdout",
          "text": [
            "Papi is a bird\n",
            "Greeny is also a bird\n",
            "Papi is 3 years old\n",
            "Greeny is 5 years old\n"
          ]
        }
      ],
      "source": [
        "class Parrot:\n",
        "\n",
        "    # class attribute\n",
        "    species = \"bird\"\n",
        "\n",
        "    # instance attribute\n",
        "    # constructor\n",
        "    def __init__(self, name, age):\n",
        "        self.name = name\n",
        "        self.age = age\n",
        "\n",
        "# # instantiate the Parrot class\n",
        "papi = Parrot(\"Papi\", 3)\n",
        "greeny = Parrot(\"Greeny\", 5)\n",
        "\n",
        "# access the class attributes\n",
        "print(\"Papi is a \" + papi.species)\n",
        "print(\"Greeny is also a \" + greeny.species)\n",
        "\n",
        "# access the instance attributes\n",
        "print(papi.name + \" is \" + str(papi.age) + \" years old\")\n",
        "print(greeny.name + \" is \" + str(greeny.age) + \" years old\")"
      ]
    },
    {
      "cell_type": "markdown",
      "metadata": {
        "id": "Kfqj80GEY8Vb"
      },
      "source": [
        "Dalam program diatas, kita baru saja membuat class dengan nama `Parrot`. Kemudian, kita mendifinisikan atribut dari parrot yaitu `name` dan `age`. Atribut merupakan karakteristik dari objek.\n",
        "\n",
        "Kemudian, kita membuat instance, atau realisasi, atau perwujudan dari class `Parrot`. Disini `papi` dan `greeny` adalah instance-nya.\n",
        "\n",
        "Kemudian, kita dapat mengakses atributnya melalui instance dengan diikuti tanda `.`"
      ]
    },
    {
      "cell_type": "markdown",
      "metadata": {
        "id": "G2aGuUNxY8Vc"
      },
      "source": [
        "# Buatlah sebuah Objek bernama Siswa\n",
        "yang memiliki atribut:\n",
        "- nis\n",
        "- nama\n",
        "- alamat\n",
        "- daftar mata pelajaran diambil\n",
        "- daftar nilai dari mata pelajaran tersebut\n",
        "\n",
        "atribut ini di deklarasikan di konstruktor.\n",
        "\n",
        "Buatlah method untuk:\n",
        "- Menampilkan detail siswa (`tampilkan()`)\n",
        "- Mengisikan data ke `mapel` dan `n` dengan method `tambahNilai(mapel,n)`\n",
        "- Menampilkan mata_pelajaran dan nilainya dengan method `tampilkanNilai()`\n",
        "- Menampilkan rata-rata nilai dengan method `tampilkanRataNilai()`\n"
      ]
    },
    {
      "cell_type": "code",
      "execution_count": 3,
      "metadata": {
        "colab": {
          "base_uri": "https://localhost:8080/"
        },
        "id": "X2MTzuX1Y8Vd",
        "outputId": "9e93d91f-da91-4ce9-9e3e-12d4ea28574c"
      },
      "outputs": [
        {
          "output_type": "stream",
          "name": "stdout",
          "text": [
            "====================\n",
            "12345 Mikael Semarang\n",
            "1 Matematika 98\n",
            "2 IPA 95\n",
            "3 Bahasa Inggris 100\n",
            "Rata-Rata Nilai 97.66666666666667\n",
            "====================\n",
            "====================\n",
            "12346 Yosua Jakarta\n",
            "1 Pemrograman Web 100\n",
            "2 Networking 1 100\n",
            "Rata-Rata Nilai 100.0\n",
            "Jurusan :  Rekayasa Perangkat Lunak\n"
          ]
        }
      ],
      "source": [
        "## Objek SIswa\n",
        "class Siswa:\n",
        "\n",
        "    def __init__(self, nis, nama, alamat):\n",
        "        self.nis = nis\n",
        "        self.nama = nama\n",
        "        self.alamat = alamat\n",
        "        self.__mata_pelajaran = []\n",
        "        self.__nilai = []\n",
        "\n",
        "    def tampilkan(self):\n",
        "        print(\"=\"*20)\n",
        "        print(self.nis,self.nama,self.alamat)\n",
        "        self.tampilkanNilai()\n",
        "        self.tampilkanRataNilai()\n",
        "        print(\"=\"*20)\n",
        "\n",
        "    def tambahNilai(self, mapel, n):\n",
        "        self.__mata_pelajaran.append(mapel)\n",
        "        self.__nilai.append(n)\n",
        "\n",
        "    def tampilkanNilai(self):\n",
        "        for i,j in enumerate(self.__mata_pelajaran):\n",
        "            print(i+1, self.__mata_pelajaran[i],self.__nilai[i])\n",
        "\n",
        "    def tampilkanRataNilai(self):\n",
        "        jumlah = 0\n",
        "        for n in self.__nilai:\n",
        "            jumlah += n\n",
        "        rata = jumlah / len(self.__nilai)\n",
        "        print(\"Rata-Rata Nilai\",rata)\n",
        "\n",
        "class SiswaSMK(Siswa):\n",
        "\n",
        "    def __init__(self, nis, nama, alamat, jurusan):\n",
        "        self.jurusan = jurusan\n",
        "        super().__init__(nis, nama, alamat)\n",
        "\n",
        "    def tampilkan(self):\n",
        "        print(\"=\"*20)\n",
        "        print(self.nis,self.nama,self.alamat)\n",
        "        super().tampilkanNilai()\n",
        "        super().tampilkanRataNilai()\n",
        "        print(\"Jurusan : \", self.jurusan)\n",
        "\n",
        "\n",
        "mikael = Siswa(\"12345\", \"Mikael\", \"Semarang\")\n",
        "yosua = SiswaSMK(\"12346\", \"Yosua\", \"Jakarta\", \"Rekayasa Perangkat Lunak\")\n",
        "\n",
        "## tambah nilai\n",
        "mikael.tambahNilai(\"Matematika\", 98)\n",
        "mikael.tambahNilai(\"IPA\", 95)\n",
        "mikael.tambahNilai(\"Bahasa Inggris\", 100)\n",
        "\n",
        "mikael.tampilkan()\n",
        "\n",
        "yosua.tambahNilai(\"Pemrograman Web\", 100)\n",
        "yosua.tambahNilai(\"Networking 1\", 100)\n",
        "yosua.tampilkan()\n",
        "\n",
        "#mikael.tampilkanNilai()\n",
        "#mikael.tampilkanRataNilai()\n",
        "#yosua.tampilkan()"
      ]
    },
    {
      "cell_type": "markdown",
      "metadata": {
        "id": "Asak7cInY8Vg"
      },
      "source": [
        "### Instance variables\n",
        "\n",
        "Dinamakan instance variable karena variabel tersebut adalah milik dari tiap instance/objek dari suatu kelas. Artinya, jika sebuah kelas memiliki instance variable dengan nama a, maka setiap instance dari kelas tersebut akan memiliki variabel a sendiri-sendiri.\n",
        "\n",
        "Di dalam python, setiap variabel yang didefinisikan di dalam fungsi pada sebuah kelas (lewat variabel self), maka ia dikatakan instance variable."
      ]
    },
    {
      "cell_type": "markdown",
      "metadata": {
        "id": "TJNgLZiQY8Vi"
      },
      "source": [
        "### Class variables / Static Variable\n",
        "Class variables / static variable adalah variabel statis yang jumlah copy-nya hanya ada satu saja selama aplikasi dijalankan.\n",
        "\n",
        "Misal kita memiliki sebuah kelas, dan kelas tersebut memiliki seratus instance, tetap saja static variable dari kelas tersebut hanya ada satu saja di memori. Oleh karena itu, static variable juga sering dikenal dengan istilah class variable."
      ]
    },
    {
      "cell_type": "markdown",
      "metadata": {
        "id": "LuszH78XY8Vj"
      },
      "source": [
        "# Methods\n",
        "\n",
        "Methods adalah function yang didefinisikan dalam sebuah class. Function ini seharusnya mendefinisikan behavior dari objeknya."
      ]
    },
    {
      "cell_type": "code",
      "execution_count": 4,
      "metadata": {
        "id": "NAg6c1X6Y8Vk"
      },
      "outputs": [],
      "source": [
        "class Parrot:\n",
        "\n",
        "    # instance attributes\n",
        "    def __init__(self, name, age):\n",
        "        self.name = name\n",
        "        self.age = age\n",
        "\n",
        "    # instance method\n",
        "    def sing(self, song):\n",
        "        return \"{} sings {}\".format(self.name, song)\n",
        "\n",
        "    def dance(self):\n",
        "        return \"{} is now dancing\".format(self.name)\n",
        "\n",
        "# instantiate the object\n",
        "\n",
        "\n",
        "# call our instance methods\n",
        "\n"
      ]
    },
    {
      "cell_type": "markdown",
      "metadata": {
        "id": "oiR_Int2Y8Vk"
      },
      "source": [
        "Dalam program diatas, kita mendefinisikan dua method yaitu `sing` dan `dance`. Mereka adalah `instance method` yang dipanggil pada instance objek yaitu `papi`."
      ]
    },
    {
      "cell_type": "markdown",
      "metadata": {
        "id": "m--LLfaHY8Vk"
      },
      "source": [
        "#### Next >> LAB 3.4.1.12 The Timer class and other"
      ]
    },
    {
      "cell_type": "markdown",
      "metadata": {
        "id": "LAyJ2QYhY8Vk"
      },
      "source": [
        "# Inheritance / Pewarisan\n",
        "\n",
        "Inheritance adalah sebuah cara untuk membuat class baru dengan menggunakan detail dari kelas lainnya. Kelas yang baru ini akan mewariskan atribut serta method yang sudah didefinisikan dari class utamanya. Kelas yang baru ini sering disebut dengan `child class` dan kelas yang digunakan detailnya sering disebut sebagai `parent class`.\n",
        "\n"
      ]
    },
    {
      "cell_type": "code",
      "execution_count": 5,
      "metadata": {
        "colab": {
          "base_uri": "https://localhost:8080/"
        },
        "id": "1pNCctwnY8Vl",
        "outputId": "7e7c0d80-e3e1-4e5b-b848-5f0e6f1cc15e"
      },
      "outputs": [
        {
          "output_type": "stream",
          "name": "stdout",
          "text": [
            "<class '__main__.Vehicle'> <class '__main__.Vehicle'> True\r\n",
            "<class '__main__.Vehicle'> <class '__main__.LandVehicle'> False\r\n",
            "<class '__main__.Vehicle'> <class '__main__.TrackedVehicle'> False\r\n",
            "\n",
            "<class '__main__.LandVehicle'> <class '__main__.Vehicle'> True\r\n",
            "<class '__main__.LandVehicle'> <class '__main__.LandVehicle'> True\r\n",
            "<class '__main__.LandVehicle'> <class '__main__.TrackedVehicle'> False\r\n",
            "\n",
            "<class '__main__.TrackedVehicle'> <class '__main__.Vehicle'> True\r\n",
            "<class '__main__.TrackedVehicle'> <class '__main__.LandVehicle'> True\r\n",
            "<class '__main__.TrackedVehicle'> <class '__main__.TrackedVehicle'> True\r\n",
            "\n"
          ]
        }
      ],
      "source": [
        "class Vehicle:\n",
        "    pass\n",
        "\n",
        "class LandVehicle(Vehicle):\n",
        "    pass\n",
        "\n",
        "class TrackedVehicle(LandVehicle):\n",
        "    pass\n",
        "\n",
        "\n",
        "for cls1 in [Vehicle, LandVehicle, TrackedVehicle]:\n",
        "    for cls2 in [Vehicle, LandVehicle, TrackedVehicle]:\n",
        "        print(cls1,cls2,issubclass(cls1, cls2), end=\"\\r\\n\")\n",
        "    print()"
      ]
    },
    {
      "cell_type": "markdown",
      "metadata": {
        "id": "AknqmzeDY8Vl"
      },
      "source": [
        "### How Python finds properties and methods\n",
        "Now we're going to look at how Python deals with inheriting methods.\n",
        "\n",
        "Take a look at the example in the editor. Let's analyze it:\n",
        "\n",
        "- there is a class named `Super`, which defines its own constructor used to assign the object's property, named `name`.\n",
        "- the class defines the `__str__()` method, too, which makes the class able to present its identity in clear text form.\n",
        "- the class is next used as a base to create a subclass named `Sub`. The `Sub` class defines its own constructor, which invokes the one from the superclass. Note how we've done it: `Super.__init__(self, name)`.\n",
        "- we've explicitly named the superclass, and pointed to the method to invoke `__init__()`, providing all needed arguments.\n",
        "- we've instantiated one object of class `Sub` and printed it.\n",
        "\n",
        "#### The code outputs:\n",
        "\n",
        "`My name is Andy.`\n",
        "\n",
        "Note: As there is no `__str__()` method within the `Sub` class, the printed string is to be produced within the `Super` class. This means that the `__str__()` method has been inherited by the `Sub` class."
      ]
    },
    {
      "cell_type": "code",
      "execution_count": 6,
      "metadata": {
        "colab": {
          "base_uri": "https://localhost:8080/"
        },
        "id": "8DzZFeGOY8Vm",
        "outputId": "38388d67-ea7a-4439-fe82-7af65f2c0419"
      },
      "outputs": [
        {
          "output_type": "stream",
          "name": "stdout",
          "text": [
            "My name is Andy.\n"
          ]
        }
      ],
      "source": [
        "class Super:\n",
        "    def __init__(self, name):\n",
        "        self.name = name\n",
        "\n",
        "    def __str__(self):\n",
        "        return \"My name is \" + self.name + \".\"\n",
        "\n",
        "\n",
        "class Sub(Super):\n",
        "    def __init__(self, name):\n",
        "        Super.__init__(self, name)\n",
        "\n",
        "\n",
        "obj = Sub(\"Andy\")\n",
        "\n",
        "print(obj)"
      ]
    },
    {
      "cell_type": "markdown",
      "metadata": {
        "id": "D4g5osf5Y8Vn"
      },
      "source": [
        "### Kasus Lain"
      ]
    },
    {
      "cell_type": "code",
      "execution_count": 7,
      "metadata": {
        "colab": {
          "base_uri": "https://localhost:8080/"
        },
        "id": "pwSSq8DDY8Vn",
        "outputId": "1efcfcd7-0a5d-4cec-b268-5d091edd0c5b"
      },
      "outputs": [
        {
          "output_type": "stream",
          "name": "stdout",
          "text": [
            "Bird is ready\n",
            "Penguin is ready\n",
            "Penguin\n",
            "Swim faster\n",
            "Run faster\n"
          ]
        }
      ],
      "source": [
        "# parent class\n",
        "class Bird:\n",
        "\n",
        "    def __init__(self):\n",
        "        print(\"Bird is ready\")\n",
        "\n",
        "    def whoisThis(self):\n",
        "        print(\"Bird\")\n",
        "\n",
        "    def swim(self):\n",
        "        print(\"Swim faster\")\n",
        "\n",
        "# child class\n",
        "class Penguin(Bird):\n",
        "\n",
        "    def __init__(self):\n",
        "        # call super() function\n",
        "        super().__init__()\n",
        "        print(\"Penguin is ready\")\n",
        "\n",
        "    def whoisThis(self):\n",
        "        print(\"Penguin\")\n",
        "\n",
        "    def run(self):\n",
        "        print(\"Run faster\")\n",
        "\n",
        "peggy = Penguin()\n",
        "peggy.whoisThis()\n",
        "peggy.swim()\n",
        "peggy.run()"
      ]
    },
    {
      "cell_type": "markdown",
      "metadata": {
        "id": "QvjHnOMmY8Vn"
      },
      "source": [
        "Hal penting yang dapat diperhatikan:\n",
        "- Bird adalah parent class dari Penguin dengan sintaks `Penguin(Bird)`. Relasi pewarisan ini harus di validasi dengan hubungan \"is a\". Contohnya Penguin is a Bird merupakan valid karena Penguin adalah termasuk Bird.\n",
        "- `super().__init__()` memanggil konstruktor dari kelas parent nya\n",
        "- method `whoisThis()` yang ditulis ulang di `Penguin` akan menimpa atau override method yang sudah ada di parent class (`Bird`).\n",
        "- method swim dapat dipanggil oleh instance dari `Penguin` karena `Penguin` sudah mewarisi seluruh method yang ada pada kelas `Bird`."
      ]
    },
    {
      "cell_type": "markdown",
      "metadata": {
        "id": "3ohQWAtMY8Vn"
      },
      "source": [
        "# Encapsulation\n",
        "\n",
        "Kita dapat membatasi akses atribut dan method dalam sebuah kelas dengan memanfaatkan sifat private yang di definisikan dengan garis bawah atau underscore single `_` atau double `__`\n"
      ]
    },
    {
      "cell_type": "code",
      "execution_count": 8,
      "metadata": {
        "colab": {
          "base_uri": "https://localhost:8080/"
        },
        "id": "v8kJxRILY8Vn",
        "outputId": "ea28db07-d506-4c27-9b8a-034e59ef5752"
      },
      "outputs": [
        {
          "output_type": "stream",
          "name": "stdout",
          "text": [
            "Saldo saat ini 1000\n",
            "Gagal Debit, Jumlah melebihi Saldo!\n"
          ]
        }
      ],
      "source": [
        "class Rekening:\n",
        "    def __init__(self):\n",
        "        self.__saldo = 0\n",
        "\n",
        "    def kredit(self, jumlah):\n",
        "        if jumlah < 0:\n",
        "            print(\"Gagal Kredit, Jumlah tidak bisa kurang dari 0\")\n",
        "            return\n",
        "\n",
        "        self.__saldo += jumlah\n",
        "\n",
        "    def debit(self, jumlah):\n",
        "        if jumlah > self.__saldo:\n",
        "            print(\"Gagal Debit, Jumlah melebihi Saldo!\")\n",
        "            return\n",
        "\n",
        "        if jumlah < 0:\n",
        "            print(\"Gagal Debit, Jumlah tidak bisa kurang dari 0\")\n",
        "            return\n",
        "\n",
        "        self.__saldo -= jumlah\n",
        "\n",
        "    def cetakSaldo(self):\n",
        "        print(\"Saldo saat ini \" + str(self.__saldo))\n",
        "\n",
        "bniBudi = Rekening()\n",
        "\n",
        "bniBudi.kredit(1000)\n",
        "bniBudi.cetakSaldo()\n",
        "bniBudi.debit(100000)\n"
      ]
    },
    {
      "cell_type": "markdown",
      "metadata": {
        "id": "Vt5jTfNbY8Vo"
      },
      "source": [
        "Pada program diatas, atribut `saldo` bersifat private karena kita memberikan underscore `__saldo`. Oleh karena itu, kita tidak bisa meruba nya secara langsung seperti dengan sintaks `c.__saldo = 1000`. Pada umumnya, atribut private ini dapat kita rubah dengan melewatkan pada sebuah method yang publik. Dalam hal ini method tersebut adalah `kredit()` dan `debit()`."
      ]
    },
    {
      "cell_type": "markdown",
      "metadata": {
        "id": "NGRDPBKLY8Vo"
      },
      "source": [
        "# contoh stack"
      ]
    },
    {
      "cell_type": "markdown",
      "metadata": {
        "id": "YlqTCVyIY8Vo"
      },
      "source": [
        "<img src=\"images/stack.PNG\" width=200 />\n",
        "\n",
        "Lihat kode dengan paradigma prosedural berikut:"
      ]
    },
    {
      "cell_type": "code",
      "execution_count": 9,
      "metadata": {
        "colab": {
          "base_uri": "https://localhost:8080/"
        },
        "id": "p2KZxL7sY8Vo",
        "outputId": "7a5a51e2-bdc7-45c9-fc86-7c45e04de804"
      },
      "outputs": [
        {
          "output_type": "stream",
          "name": "stdout",
          "text": [
            "1\n",
            "2\n",
            "3\n"
          ]
        }
      ],
      "source": [
        "stack = []\n",
        "\n",
        "def push(val):\n",
        "    stack.append(val)\n",
        "\n",
        "\n",
        "def pop():\n",
        "    val = stack[-1]\n",
        "    del stack[-1]\n",
        "    return val\n",
        "\n",
        "push(3)\n",
        "push(2)\n",
        "push(1)\n",
        "\n",
        "print(pop())\n",
        "print(pop())\n",
        "print(pop())"
      ]
    },
    {
      "cell_type": "markdown",
      "metadata": {
        "id": "CJkXqnQgY8Vo"
      },
      "source": [
        "### Pertama buat atributnya"
      ]
    },
    {
      "cell_type": "code",
      "execution_count": 10,
      "metadata": {
        "colab": {
          "base_uri": "https://localhost:8080/"
        },
        "id": "NzSEON5CY8Vp",
        "outputId": "56d86e2e-5215-41f4-90b9-a5bda81f432d"
      },
      "outputs": [
        {
          "output_type": "stream",
          "name": "stdout",
          "text": [
            "0\n"
          ]
        }
      ],
      "source": [
        "class Stack:\n",
        "    def __init__(self):\n",
        "        self.stackList = []\n",
        "\n",
        "stackObject = Stack()\n",
        "print(len(stackObject.stackList))"
      ]
    },
    {
      "cell_type": "markdown",
      "metadata": {
        "id": "Zk9l-H1aY8Vp"
      },
      "source": [
        "### Kemudian ubah atributnya menjadi private"
      ]
    },
    {
      "cell_type": "code",
      "execution_count": 11,
      "metadata": {
        "colab": {
          "base_uri": "https://localhost:8080/",
          "height": 176
        },
        "id": "YnQDUitSY8Vp",
        "outputId": "694a8358-f990-4f31-9c95-2691dce1c02c"
      },
      "outputs": [
        {
          "output_type": "error",
          "ename": "AttributeError",
          "evalue": "'Stack' object has no attribute '__stackList'",
          "traceback": [
            "\u001b[0;31m---------------------------------------------------------------------------\u001b[0m",
            "\u001b[0;31mAttributeError\u001b[0m                            Traceback (most recent call last)",
            "\u001b[0;32m<ipython-input-11-8e5050a101d4>\u001b[0m in \u001b[0;36m<cell line: 0>\u001b[0;34m()\u001b[0m\n\u001b[1;32m      4\u001b[0m \u001b[0;34m\u001b[0m\u001b[0m\n\u001b[1;32m      5\u001b[0m \u001b[0mstackObject\u001b[0m \u001b[0;34m=\u001b[0m \u001b[0mStack\u001b[0m\u001b[0;34m(\u001b[0m\u001b[0;34m)\u001b[0m\u001b[0;34m\u001b[0m\u001b[0;34m\u001b[0m\u001b[0m\n\u001b[0;32m----> 6\u001b[0;31m \u001b[0mprint\u001b[0m\u001b[0;34m(\u001b[0m\u001b[0mlen\u001b[0m\u001b[0;34m(\u001b[0m\u001b[0mstackObject\u001b[0m\u001b[0;34m.\u001b[0m\u001b[0m__stackList\u001b[0m\u001b[0;34m)\u001b[0m\u001b[0;34m)\u001b[0m\u001b[0;34m\u001b[0m\u001b[0;34m\u001b[0m\u001b[0m\n\u001b[0m",
            "\u001b[0;31mAttributeError\u001b[0m: 'Stack' object has no attribute '__stackList'"
          ]
        }
      ],
      "source": [
        "class Stack:\n",
        "    def __init__(self):\n",
        "        self.__stackList = [] # __ membuat private\n",
        "\n",
        "stackObject = Stack()\n",
        "print(len(stackObject.__stackList))"
      ]
    },
    {
      "cell_type": "markdown",
      "metadata": {
        "id": "-M7b928FY8Vp"
      },
      "source": [
        "### Tambahkan method push dan pop nya"
      ]
    },
    {
      "cell_type": "code",
      "execution_count": 12,
      "metadata": {
        "colab": {
          "base_uri": "https://localhost:8080/"
        },
        "id": "wxvMDzfTY8Vq",
        "outputId": "c93a6ca8-ab31-4456-b000-7ee9bfa08b54"
      },
      "outputs": [
        {
          "output_type": "stream",
          "name": "stdout",
          "text": [
            "1\n",
            "2\n",
            "3\n"
          ]
        }
      ],
      "source": [
        "class Stack:\n",
        "    def __init__(self):\n",
        "        self.__stackList = []\n",
        "\n",
        "    def push(self, val):\n",
        "        self.__stackList.append(val)\n",
        "\n",
        "    def pop(self):\n",
        "        val = self.__stackList[-1]\n",
        "        del self.__stackList[-1]\n",
        "        return val\n",
        "\n",
        "\n",
        "stackObject = Stack()\n",
        "\n",
        "stackObject.push(3)\n",
        "stackObject.push(2)\n",
        "stackObject.push(1)\n",
        "\n",
        "print(stackObject.pop())\n",
        "print(stackObject.pop())\n",
        "print(stackObject.pop())"
      ]
    },
    {
      "cell_type": "markdown",
      "metadata": {
        "id": "QqjHwCN3Y8Vq"
      },
      "source": [
        "### Contoh dengan beberapa Instance"
      ]
    },
    {
      "cell_type": "code",
      "execution_count": 13,
      "metadata": {
        "colab": {
          "base_uri": "https://localhost:8080/"
        },
        "id": "egBUVC0tY8Vr",
        "outputId": "0910e9a6-0562-43d4-f2ac-f60937c8c74d"
      },
      "outputs": [
        {
          "output_type": "stream",
          "name": "stdout",
          "text": [
            "0\n"
          ]
        }
      ],
      "source": [
        "class Stack:\n",
        "    def __init__(self):\n",
        "        self.__stackList = []\n",
        "\n",
        "    def push(self, val):\n",
        "        self.__stackList.append(val)\n",
        "\n",
        "    def pop(self):\n",
        "        val = self.__stackList[-1]\n",
        "        del self.__stackList[-1]\n",
        "        return val\n",
        "\n",
        "littleStack = Stack()\n",
        "anotherStack = Stack()\n",
        "funnyStack = Stack()\n",
        "\n",
        "littleStack.push(1)\n",
        "anotherStack.push(littleStack.pop() + 1)\n",
        "funnyStack.push(anotherStack.pop() - 2)\n",
        "\n",
        "print(funnyStack.pop())"
      ]
    },
    {
      "cell_type": "markdown",
      "metadata": {
        "id": "WMSsA2O0Y8Vr"
      },
      "source": [
        "### Inheritance"
      ]
    },
    {
      "cell_type": "code",
      "execution_count": 14,
      "metadata": {
        "colab": {
          "base_uri": "https://localhost:8080/"
        },
        "id": "RXF7H8sNY8Vs",
        "outputId": "7323f00a-5361-4f16-8366-4cbcc47a78ca"
      },
      "outputs": [
        {
          "output_type": "stream",
          "name": "stdout",
          "text": [
            "10\n",
            "4\n",
            "3\n",
            "2\n",
            "1\n",
            "0\n"
          ]
        }
      ],
      "source": [
        "class Stack:\n",
        "    def __init__(self):\n",
        "        self.__stackList = []\n",
        "\n",
        "    def push(self, val):\n",
        "        self.__stackList.append(val)\n",
        "\n",
        "    def pop(self):\n",
        "        val = self.__stackList[-1]\n",
        "        del self.__stackList[-1]\n",
        "        return val\n",
        "\n",
        "\n",
        "class AddingStack(Stack):\n",
        "    def __init__(self):\n",
        "        Stack.__init__(self)\n",
        "        self.__sum = 0\n",
        "\n",
        "    def getSum(self):\n",
        "        return self.__sum\n",
        "\n",
        "    def push(self, val):\n",
        "        self.__sum += val\n",
        "        Stack.push(self, val)\n",
        "\n",
        "    def pop(self):\n",
        "        val = Stack.pop(self)\n",
        "        self.__sum -= val\n",
        "        return val\n",
        "\n",
        "\n",
        "stackObject = AddingStack()\n",
        "\n",
        "for i in range(5):\n",
        "    stackObject.push(i)\n",
        "print(stackObject.getSum())\n",
        "\n",
        "for i in range(5):\n",
        "    print(stackObject.pop())"
      ]
    },
    {
      "cell_type": "markdown",
      "metadata": {
        "id": "yDXTV20eY8Vs"
      },
      "source": [
        "### Contoh lain"
      ]
    },
    {
      "cell_type": "code",
      "execution_count": 15,
      "metadata": {
        "colab": {
          "base_uri": "https://localhost:8080/"
        },
        "id": "vUnkWU-gY8Vs",
        "outputId": "5a612b87-426e-4c41-bc80-b837a49af3eb"
      },
      "outputs": [
        {
          "output_type": "stream",
          "name": "stdout",
          "text": [
            "Guntur\n",
            "Guntur\n",
            "Matematika 90\n",
            "Biologi 80\n"
          ]
        }
      ],
      "source": [
        "class Siswa:\n",
        "    #class atribut\n",
        "    __jmlMapel = 0\n",
        "    __mapel = []\n",
        "    __nilai = []\n",
        "\n",
        "    def __init__(self, nama, alamat):\n",
        "        self.nama = nama\n",
        "        self.alamat = alamat\n",
        "\n",
        "    def getNama(self):\n",
        "        return self.nama\n",
        "\n",
        "    def tambahNilaiMapel(self,mapel,nilai):\n",
        "        self.__mapel.append(mapel)\n",
        "        self.__nilai.append(nilai)\n",
        "\n",
        "    def cetakNilai(self):\n",
        "        for i,j in enumerate(self.__mapel):\n",
        "            print(self.__mapel[i], self.__nilai[i])\n",
        "\n",
        "\n",
        "s = Siswa(\"Guntur\",\"Jogja\")\n",
        "print(s.nama) # boleh karena publik\n",
        "print(s.getNama()) # bisa juga\n",
        "s.tambahNilaiMapel(\"Matematika\",90)\n",
        "s.tambahNilaiMapel(\"Biologi\",80)\n",
        "\n",
        "s.cetakNilai() # akses nilai hanya lewat sini\n",
        "\n",
        "# print(s.nilai) # ga boleh karena private\n",
        "# print(s.__nilai) # ga boleh karena private"
      ]
    },
    {
      "cell_type": "markdown",
      "metadata": {
        "id": "PSAJjSOGY8Vt"
      },
      "source": [
        "## Latihan OOP\n",
        "![Circle Class](https://i.pinimg.com/originals/e2/e0/b8/e2e0b845017353dc3b614de2c30ccab4.png)\n",
        "\n"
      ]
    },
    {
      "cell_type": "code",
      "execution_count": 16,
      "metadata": {
        "colab": {
          "base_uri": "https://localhost:8080/"
        },
        "id": "qUHtlms8Y8V5",
        "outputId": "8757965b-5d7b-443a-cb63-8404f520fbe3"
      },
      "outputs": [
        {
          "output_type": "stream",
          "name": "stdout",
          "text": [
            "12.566370614359172\n",
            "12.566370614359172\n",
            "3.141592653589793\n"
          ]
        }
      ],
      "source": [
        "import math\n",
        "class Circle:\n",
        "    def __init__(self, radius, color):\n",
        "        self.__radius = radius\n",
        "        self.__color = color\n",
        "\n",
        "    def getRadius(self):\n",
        "        return self.__radius\n",
        "\n",
        "    def setRadius(self,radius):\n",
        "        self.__radius = radius\n",
        "\n",
        "    def getColor(self):\n",
        "        return self.__color\n",
        "\n",
        "    def setColor(self,color):\n",
        "        self.__color = color\n",
        "\n",
        "    def getArea(self):\n",
        "        return math.pi * self.__radius ** 2\n",
        "\n",
        "\n",
        "# radius = 2, color = blue\n",
        "c1 = Circle(2,\"blue\")\n",
        "# c1.setRadius(2)\n",
        "# c1.setColor(\"blue\")\n",
        "print(c1.getArea())\n",
        "\n",
        "# radius = 2, color = red\n",
        "c2 = Circle(2,\"red\")\n",
        "# c2.setRadius(2)\n",
        "# c2.setColor(\"red\")\n",
        "print(c2.getArea())\n",
        "\n",
        "# radius = 1, color = red\n",
        "c3 = Circle(1,\"red\")\n",
        "# c3.setRadius(1)\n",
        "# c3.setColor(\"red\")\n",
        "print(c3.getArea())"
      ]
    },
    {
      "cell_type": "markdown",
      "metadata": {
        "id": "ivo3NIi6Y8V7"
      },
      "source": [
        "![Student Class](https://1.bp.blogspot.com/-u4BocN8-Hf0/YEI99UiIR1I/AAAAAAAARhI/t56mJ3tAxhc-azHK-z1_XJOeqdTx5723QCLcBGAsYHQ/s642/ClassDiagram_Student.png)"
      ]
    },
    {
      "cell_type": "code",
      "execution_count": null,
      "metadata": {
        "colab": {
          "base_uri": "https://localhost:8080/"
        },
        "id": "kzvLyoEKY8V7",
        "outputId": "534dd65b-a562-43be-e576-c8beca91c549"
      },
      "outputs": [
        {
          "name": "stdout",
          "output_type": "stream",
          "text": [
            "Masukkan Jumlah Siswa = 5\n",
            "Masukkkan Jumlah Course = 2\n",
            "Masukkan Nama Siswa = adit\n",
            "Masukkan Alamat Siswa = semarang\n",
            "Masukkan Nama Mapel Siswa adit = ipa\n",
            "Masukkan Nilai Mapel Siswa adit = 100\n",
            "Masukkan Nama Mapel Siswa adit = ing\n",
            "Masukkan Nilai Mapel Siswa adit = 89\n",
            "Masukkan Nama Siswa = wawa\n",
            "Masukkan Alamat Siswa = kendal\n",
            "Masukkan Nama Mapel Siswa wawa = ipa\n",
            "Masukkan Nilai Mapel Siswa wawa = 99\n",
            "Masukkan Nama Mapel Siswa wawa = ing\n",
            "Masukkan Nilai Mapel Siswa wawa = 91\n",
            "Masukkan Nama Siswa = budi\n",
            "Masukkan Alamat Siswa = pemalang\n",
            "Masukkan Nama Mapel Siswa budi = ipa\n",
            "Masukkan Nilai Mapel Siswa budi = 88\n",
            "Masukkan Nama Mapel Siswa budi = ing\n",
            "Masukkan Nilai Mapel Siswa budi = 87\n"
          ]
        }
      ],
      "source": [
        "class Student:\n",
        "    def __init__(self,name,address):\n",
        "        self.__name = name\n",
        "        self.__address = address\n",
        "        self.__numCourses = 0\n",
        "        self.__courses = []\n",
        "        self.__grades = []\n",
        "\n",
        "    def getName(self):\n",
        "        return self.__name\n",
        "\n",
        "    def getAddress(self):\n",
        "        return self.__address\n",
        "\n",
        "    def setAddress(self,address):\n",
        "        self.__address = address\n",
        "\n",
        "    def addCourseGrade(self,course,grade):\n",
        "        self.__courses.append(course)\n",
        "        self.__grades.append(grade)\n",
        "        self.__numCourses += 1\n",
        "\n",
        "    def printGrades(self):\n",
        "        for i in range(len(self.__courses)):\n",
        "            print(self.__courses[i] +\" : \"+ str(self.__grades[i]))\n",
        "\n",
        "    def getAverageGrade(self):\n",
        "        sum = 0\n",
        "        for n in self.__grades:\n",
        "            sum += n\n",
        "        return sum / len(self.__grades)\n",
        "\n",
        "\n",
        "n_siswa = int(input(\"Masukkan Jumlah Siswa = \"))\n",
        "n_course = int(input(\"Masukkkan Jumlah Course = \"))\n",
        "\n",
        "siswa = []\n",
        "for i in range(n_siswa):\n",
        "    nama = input(\"Masukkan Nama Siswa = \")\n",
        "    alamat = input(\"Masukkan Alamat Siswa = \")\n",
        "    siswa.append(Student(nama,alamat))\n",
        "    for j in range(n_course):\n",
        "        mapel = input(\"Masukkan Nama Mapel Siswa \"+nama+\" = \")\n",
        "        nilai = int(input(\"Masukkan Nilai Mapel Siswa \"+nama+\" = \"))\n",
        "        siswa[i].addCourseGrade(mapel,nilai)\n",
        "\n",
        "print(\"Hasil\")\n",
        "for i in range(n_siswa):\n",
        "    print(s1.getName(),s1.getAddress())\n",
        "    siswa[i].printGrades()\n",
        "    print(\"Rata-Rata : \", siswa[i].getAverageGrade())\n",
        "\n",
        "# s1 = Student(\"Ani\",\"Yogyakarta\")\n",
        "# print(s1.getName(),s1.getAddress())\n",
        "# s1.addCourseGrade(\"Matematika\",95)\n",
        "# s1.addCourseGrade(\"IPA\",90)\n",
        "# s1.addCourseGrade(\"Bahasa Indonesia\",85)\n",
        "# s1.printGrades()\n",
        "# print(\"Rata-Rata : \", s1.getAverageGrade())\n",
        "\n",
        "# print()\n",
        "# s2 = Student(\"Budi\",\"Jakarta\")\n",
        "# print(s2.getName(),s2.getAddress())\n",
        "# s2.addCourseGrade(\"Matematika\",60)\n",
        "# s2.addCourseGrade(\"IPA\",70)\n",
        "# s2.addCourseGrade(\"Bahasa Indonesia\",100)\n",
        "# s2.printGrades()\n",
        "# print(\"Rata-Rata : \", s2.getAverageGrade())"
      ]
    },
    {
      "cell_type": "markdown",
      "metadata": {
        "id": "gsl4kXcdY8V9"
      },
      "source": [
        "![Employee.png](attachment:Employee.png)"
      ]
    },
    {
      "cell_type": "code",
      "execution_count": null,
      "metadata": {
        "id": "WIzalKopY8V9"
      },
      "outputs": [],
      "source": [
        "class Employee:\n",
        "    def __init__(self,idEmp,firstName,lastName,salary):\n",
        "        self.__idEmp = idEmp\n",
        "        self.__firstName = firstName\n",
        "        self.__lastName = lastName\n",
        "        self.__salary = salary\n",
        "\n",
        "    def getID(self):\n",
        "        return self.__idEmp\n",
        "\n",
        "    def getFirstName(self):\n",
        "        return self.__firstName\n",
        "\n",
        "    def getLastName(self):\n",
        "        return self.__lastName\n",
        "\n",
        "    def getName(self):\n",
        "        return self.__firstName + \" \" + self.__lastName\n",
        "\n",
        "    def getSalary(self):\n",
        "        return self.__salary\n",
        "\n",
        "    def setSalary(self,salary):\n",
        "        self.__salary = salary\n",
        "\n",
        "    def getAnnualSalary(self):\n",
        "        return self.__salary * 12\n",
        "\n",
        "    def raiseSalary(self,percent):\n",
        "        self.__salary += self.__salary * (percent/100)\n",
        "        return self.__salary\n",
        "\n",
        "    def __str__(self):\n",
        "        return self.getName() + \" \" + str(self.getSalary())\n",
        "\n",
        "\n",
        "class Manager(Employee):\n",
        "    def __init__(self,idEmp,firstName,lastName,salary,bonus):\n",
        "        super().__init__(idEmp,firstName,lastName,salary)\n",
        "        self.__bonus = bonus\n",
        "\n",
        "    def setBranch(self, branch):\n",
        "        self.__branch = branch\n",
        "\n",
        "    def getBranch(self, branch):\n",
        "        return self.__branch\n",
        "\n",
        "    def getBonus(self, bonus):\n",
        "        return self.__bonus\n",
        "\n",
        "    def setBonus(self, bonus):\n",
        "        self.__bonus = bonus\n",
        "\n",
        "    def getAnnualSalary(self):\n",
        "        return super().getSalary() * 12 + self.__bonus\n",
        "\n",
        "\n",
        "m1 = Manager(1234,\"Guntur\",\"Budi\",5000,9000)\n",
        "print(m1.getName())\n",
        "print(m1.getAnnualSalary())\n",
        "\n",
        "# e1 = Employee(1234,\"Guntur\",\"Budi\",5000)\n",
        "# print(e1.getSalary())\n",
        "# print(e1.getAnnualSalary())\n",
        "# print(e1.raiseSalary(50))\n",
        "# print(e1.getAnnualSalary())\n",
        "# print(e1)"
      ]
    },
    {
      "cell_type": "markdown",
      "metadata": {
        "id": "MA29A4-eY8V-"
      },
      "source": [
        "![turunan people](https://i.warosu.org/data/g/img/0546/66/1463830198319.png)"
      ]
    },
    {
      "cell_type": "code",
      "execution_count": 18,
      "metadata": {
        "id": "zNG8hMn5Y8V-"
      },
      "outputs": [],
      "source": [
        "class Person:\n",
        "    def __init__(self,name,address):\n",
        "        self.__name = name\n",
        "        self.__address = address\n",
        "\n",
        "    def getName(self):\n",
        "        return self.__name\n",
        "\n",
        "    def getAddress(self):\n",
        "        return self.__address\n",
        "\n",
        "    def setName(name):\n",
        "        self.__name = name\n",
        "\n",
        "    def __str__(self):\n",
        "        return self.__name+\" \"+self.__address\n",
        ""
      ]
    },
    {
      "cell_type": "code",
      "execution_count": 19,
      "metadata": {
        "id": "bpyxMPUPY8V_"
      },
      "outputs": [],
      "source": [
        "class Student(Person):\n",
        "    def __init__(self,name,address):\n",
        "        super().__init__(name,address)\n",
        "        self.__numCourses = 0\n",
        "        self.__courses = []\n",
        "        self.__grades = []\n",
        "\n",
        "    def addCourseGrade(self,course,grade):\n",
        "        self.__courses.append(course)\n",
        "        self.__grades.append(grade)\n",
        "        self.__numCourses += 1\n",
        "\n",
        "    def printGrades(self):\n",
        "        for i in range(len(self.__courses)):\n",
        "            print(self.__courses[i] +\" : \"+ str(self.__grades[i]))\n",
        "\n",
        "    def getAverageGrade(self):\n",
        "        sum = 0\n",
        "        for n in self.__grades:\n",
        "            sum += n\n",
        "        return sum / len(self.__grades)\n",
        "\n",
        "    def __str__(self):\n",
        "        return \"Student: \" + super().getName() + \" \" +super().getAddress()"
      ]
    },
    {
      "cell_type": "code",
      "execution_count": 20,
      "metadata": {
        "id": "arEZ8ndXY8V_"
      },
      "outputs": [],
      "source": [
        "class Teacher(Person):\n",
        "    def __init__(self,name,address):\n",
        "        super().__init__(name,address)\n",
        "        self.__numCourses = 0\n",
        "        self.__courses = []\n",
        "\n",
        "    def addCourse(self, course):\n",
        "        if course not in self.__courses:\n",
        "            self.__courses.append(course)\n",
        "            return True\n",
        "        else:\n",
        "            return False\n",
        "\n",
        "    def removeCourse(self, course):\n",
        "        if course in self.__courses:\n",
        "            i = self.__courses.index(course)\n",
        "            del self.__courses[i]\n",
        "            return True\n",
        "        else:\n",
        "            return False\n",
        "\n",
        "    def printCourse(self):\n",
        "        print(self.__courses)\n",
        "\n",
        "    def __str__(self):\n",
        "        return \"Teacher: \" + super().getName() + \" \" +super().getAddress()"
      ]
    },
    {
      "cell_type": "code",
      "execution_count": 21,
      "metadata": {
        "scrolled": true,
        "colab": {
          "base_uri": "https://localhost:8080/"
        },
        "id": "mfGuHK_rY8WA",
        "outputId": "54fae55d-7f51-4c8e-ae8d-58918b2ee8e5"
      },
      "outputs": [
        {
          "output_type": "stream",
          "name": "stdout",
          "text": [
            "Teacher: Pak Budi Jakarta\n",
            "['Matematika', 'Fisika']\n",
            "Gagal Dihapus\n",
            "['Matematika', 'Fisika']\n"
          ]
        }
      ],
      "source": [
        "t1 = Teacher(\"Pak Budi\",\"Jakarta\")\n",
        "print(t1)\n",
        "\n",
        "t1.addCourse(\"Matematika\")\n",
        "t1.addCourse(\"Fisika\")\n",
        "\n",
        "t1.printCourse()\n",
        "if(t1.removeCourse(\"Biologi\")):\n",
        "    print(\"Berhasil Dihapus\")\n",
        "else:\n",
        "    print(\"Gagal Dihapus\")\n",
        "t1.printCourse()\n"
      ]
    },
    {
      "cell_type": "markdown",
      "metadata": {
        "id": "xLwa5BnNY8WA"
      },
      "source": [
        "\n"
      ]
    },
    {
      "cell_type": "code",
      "source": [],
      "metadata": {
        "id": "a0eTI5yqjK62"
      },
      "execution_count": 21,
      "outputs": []
    }
  ],
  "metadata": {
    "kernelspec": {
      "display_name": "Python 3 (ipykernel)",
      "language": "python",
      "name": "python3"
    },
    "language_info": {
      "codemirror_mode": {
        "name": "ipython",
        "version": 3
      },
      "file_extension": ".py",
      "mimetype": "text/x-python",
      "name": "python",
      "nbconvert_exporter": "python",
      "pygments_lexer": "ipython3",
      "version": "3.9.5"
    },
    "colab": {
      "provenance": []
    }
  },
  "nbformat": 4,
  "nbformat_minor": 0
}